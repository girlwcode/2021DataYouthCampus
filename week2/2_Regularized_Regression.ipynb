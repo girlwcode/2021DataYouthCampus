{
  "nbformat": 4,
  "nbformat_minor": 0,
  "metadata": {
    "colab": {
      "name": "2_Regularized_Regression.ipynb",
      "provenance": [],
      "collapsed_sections": [],
      "include_colab_link": true
    },
    "kernelspec": {
      "name": "python3",
      "display_name": "Python 3"
    }
  },
  "cells": [
    {
      "cell_type": "markdown",
      "metadata": {
        "id": "view-in-github",
        "colab_type": "text"
      },
      "source": [
        "<a href=\"https://colab.research.google.com/github/girlwcode/2021DataYouthCampus/blob/master/week2/2_Regularized_Regression.ipynb\" target=\"_parent\"><img src=\"https://colab.research.google.com/assets/colab-badge.svg\" alt=\"Open In Colab\"/></a>"
      ]
    },
    {
      "cell_type": "markdown",
      "metadata": {
        "id": "y45ZTaGvQayP"
      },
      "source": [
        "# 정규화 회귀분석 실습"
      ]
    },
    {
      "cell_type": "markdown",
      "metadata": {
        "id": "8Ep8Q2jFQaH6"
      },
      "source": [
        "python의 scikit-learn 패키지를 이용해 정규화 회귀분석을 직접 실행해보자."
      ]
    },
    {
      "cell_type": "markdown",
      "metadata": {
        "id": "JyAsdYNkg-Dw"
      },
      "source": [
        "### 데이터 불러오기 및 분할하기"
      ]
    },
    {
      "cell_type": "markdown",
      "metadata": {
        "id": "eaZURG0FQ1te"
      },
      "source": [
        "다중 회귀분석과 동일한 데이터에 대해 분석해 보자."
      ]
    },
    {
      "cell_type": "code",
      "metadata": {
        "id": "N_CsjIKRZEui",
        "colab": {
          "base_uri": "https://localhost:8080/"
        },
        "outputId": "dcdf54db-d11c-4eec-edbe-5f47c419c19e"
      },
      "source": [
        "from sklearn import datasets\n",
        "data = datasets.load_diabetes()\n",
        "\n",
        "x = data['data']\n",
        "y = data['target']\n",
        "\n",
        "print(x.shape, y.shape)"
      ],
      "execution_count": 21,
      "outputs": [
        {
          "output_type": "stream",
          "text": [
            "(442, 10) (442,)\n"
          ],
          "name": "stdout"
        }
      ]
    },
    {
      "cell_type": "code",
      "metadata": {
        "id": "jOYveg-5RKmz",
        "colab": {
          "base_uri": "https://localhost:8080/"
        },
        "outputId": "4cf87cf8-28be-405a-86e1-e5544f8c2683"
      },
      "source": [
        "from sklearn.model_selection import train_test_split\n",
        "\n",
        "# 데이터 나누기 - 6:2:2 비율\n",
        "x_train, x_test, y_train, y_test = train_test_split(x, y, test_size=0.2, random_state=1)\n",
        "x_train, x_val, y_train, y_val = train_test_split(x_train, y_train, test_size=0.25, random_state=1)\n",
        "\n",
        "print(x_train.shape, x_val.shape, x_test.shape)"
      ],
      "execution_count": 22,
      "outputs": [
        {
          "output_type": "stream",
          "text": [
            "(264, 10) (89, 10) (89, 10)\n"
          ],
          "name": "stdout"
        }
      ]
    },
    {
      "cell_type": "markdown",
      "metadata": {
        "id": "urgaX226RGdD"
      },
      "source": [
        "### 모델 학습하기"
      ]
    },
    {
      "cell_type": "markdown",
      "metadata": {
        "id": "U2mK0pR9RT7g"
      },
      "source": [
        "Training data를 이용해 각 모델을 학습해 보자. 먼저 아래와 같이 각 모델을 import 한다. "
      ]
    },
    {
      "cell_type": "code",
      "metadata": {
        "id": "oi9AW_HeRrpN"
      },
      "source": [
        "from sklearn.linear_model import Ridge, Lasso, ElasticNet"
      ],
      "execution_count": 23,
      "outputs": []
    },
    {
      "cell_type": "markdown",
      "metadata": {
        "id": "p9vAA1gYR6NY"
      },
      "source": [
        "[Ridge](https://scikit-learn.org/stable/modules/generated/sklearn.linear_model.Ridge.html?highlight=ridge#sklearn.linear_model.Ridge), [Lasso](https://scikit-learn.org/stable/modules/generated/sklearn.linear_model.Lasso.html?highlight=lasso#sklearn.linear_model.Lasso), [ElasticNet](https://scikit-learn.org/stable/modules/generated/sklearn.linear_model.ElasticNet.html?highlight=elasticnet#sklearn.linear_model.ElasticNet) 에 대한 자세한 설명은 링크를 참조하자. 이를 보고 적절한 hyperparameter를 이용해 각 모델을 구현해 보자. (실습!)"
      ]
    },
    {
      "cell_type": "code",
      "metadata": {
        "id": "CPwtmuEeTSxx"
      },
      "source": [
        "# TODO: Ridge, Lasso, ElasticNet 모델 객체 생성하기\n",
        "rg = Ridge(alpha = 1.0)\n",
        "ls = Lasso(alpha = 1.0)\n",
        "en = ElasticNet(random_state=0,l1_ratio=0.5)"
      ],
      "execution_count": 24,
      "outputs": []
    },
    {
      "cell_type": "markdown",
      "metadata": {
        "id": "FBCrbfyITYrS"
      },
      "source": [
        "Training data와 fit() 함수를 이용해 각 모델을 학습하자. (실습!)"
      ]
    },
    {
      "cell_type": "code",
      "metadata": {
        "id": "4KGe5xerTc8U",
        "colab": {
          "base_uri": "https://localhost:8080/"
        },
        "outputId": "2ec7bff1-622b-43aa-d32d-457f1f977f18"
      },
      "source": [
        "# TODO: 각 모델 학습하기\n",
        "rg.fit(x_train,y_train)\n",
        "ls.fit(x_train,y_train)\n",
        "en.fit(x_train,y_train)"
      ],
      "execution_count": 25,
      "outputs": [
        {
          "output_type": "execute_result",
          "data": {
            "text/plain": [
              "ElasticNet(alpha=1.0, copy_X=True, fit_intercept=True, l1_ratio=0.5,\n",
              "           max_iter=1000, normalize=False, positive=False, precompute=False,\n",
              "           random_state=0, selection='cyclic', tol=0.0001, warm_start=False)"
            ]
          },
          "metadata": {
            "tags": []
          },
          "execution_count": 25
        }
      ]
    },
    {
      "cell_type": "markdown",
      "metadata": {
        "id": "eLwEI4ieTccX"
      },
      "source": [
        "### 결과 분석하기"
      ]
    },
    {
      "cell_type": "markdown",
      "metadata": {
        "id": "m72nKBYP445q"
      },
      "source": [
        "각 모델의 설명력을 확인해 보자. 지난번에 사용한 r2_score 을 이용할 수도 있지만, 각 모델에서 제공하는 score 함수를 이용해 R-square 점수를 얻을 수도 있다. 이를 사용하는 방법을 위 링크에서 확인한 후 각 모델의 training 및 validation data에 대한 R-square 값을 계산해 보자. (실습!)"
      ]
    },
    {
      "cell_type": "code",
      "metadata": {
        "id": "o5yZBZBv6kV8",
        "colab": {
          "base_uri": "https://localhost:8080/"
        },
        "outputId": "39ec156c-6c44-44d9-afb6-e457490a58d3"
      },
      "source": [
        "from sklearn.metrics import r2_score\n",
        "# TODO: Ridge 모델의 training & validation data에 대한 R-square 계산하기\n",
        "pred_train = rg.predict(x_train)\n",
        "ridge_train_r2 = r2_score(y_train, pred_train)\n",
        "\n",
        "pred_val = rg.predict(x_val)\n",
        "ridge_val_r2 =  r2_score(y_val, pred_val)\n",
        "print (\"Ridge training R-square: %.4f\", ridge_train_r2)\n",
        "print (\"Ridge validation R-square: %.4f\", ridge_val_r2)"
      ],
      "execution_count": 26,
      "outputs": [
        {
          "output_type": "stream",
          "text": [
            "Ridge training R-square: %.4f 0.4239314254530582\n",
            "Ridge validation R-square: %.4f 0.38691066607317715\n"
          ],
          "name": "stdout"
        }
      ]
    },
    {
      "cell_type": "code",
      "metadata": {
        "id": "zCpIWSL97Rp5",
        "colab": {
          "base_uri": "https://localhost:8080/"
        },
        "outputId": "0cfda8fc-f9fa-4f8e-f3de-f8214fa4fc27"
      },
      "source": [
        "# TODO: Lasso 모델의 training & validation data에 대한 R-square 계산하기\n",
        "pred_train = ls.predict(x_train)\n",
        "lasso_train_r2 = r2_score(y_train, pred_train)\n",
        "pred_val = ls.predict(x_val)\n",
        "lasso_val_r2 = r2_score(y_val, pred_val)\n",
        "print (\"Lasso training R-square:\", lasso_train_r2)\n",
        "print (\"Lasso validation R-square: \", lasso_val_r2)"
      ],
      "execution_count": 27,
      "outputs": [
        {
          "output_type": "stream",
          "text": [
            "Lasso training R-square: 0.3646479372029202\n",
            "Lasso validation R-square:  0.36088246540212165\n"
          ],
          "name": "stdout"
        }
      ]
    },
    {
      "cell_type": "code",
      "metadata": {
        "id": "9toYfS8a7R_F",
        "colab": {
          "base_uri": "https://localhost:8080/"
        },
        "outputId": "60205aa4-963f-491f-b08a-214aede556ad"
      },
      "source": [
        "# TODO: ElasticNet 모델의 training & validation data에 대한 R-square 계산하기\n",
        "pred_train = en.predict(x_train)\n",
        "elastic_train_r2 = r2_score(y_train, pred_train)\n",
        "pred_val = en.predict(x_val)\n",
        "elastic_val_r2 = r2_score(y_val, pred_val)\n",
        "print (\"ElasticNet training R-square:\", elastic_train_r2)\n",
        "print (\"ElasticNet validation R-square:: \", elastic_val_r2)"
      ],
      "execution_count": 28,
      "outputs": [
        {
          "output_type": "stream",
          "text": [
            "ElasticNet training R-square: 0.009281839618681453\n",
            "ElasticNet validation R-square::  -0.017822645041642993\n"
          ],
          "name": "stdout"
        }
      ]
    },
    {
      "cell_type": "markdown",
      "metadata": {
        "id": "42wq3Lln7ll6"
      },
      "source": [
        "수업 시간에 배운 Ridge와 Lasso의 가장 큰 차이점은 바로 변수를 선택할 수 있는지에 대한 여부였다. 각 모델의 회귀계수 값을 불러와 0이 아닌 회귀계수가 몇 개인지, 즉 회귀분석에 선택된 변수가 몇 개인지 세어 보자. (실습!)"
      ]
    },
    {
      "cell_type": "code",
      "metadata": {
        "id": "6EnEQKFE7lFz",
        "colab": {
          "base_uri": "https://localhost:8080/"
        },
        "outputId": "d685ce65-dc71-4e4b-91b1-3be1b0b6176b"
      },
      "source": [
        "# TODO: 각 모델이 사용한 변수의 개수 세어보기\n",
        "import numpy as np\n",
        "ridge_used_variables =  np.sum(rg.coef_ !=0)\n",
        "lasso_used_variables =  np.sum(ls.coef_ !=0)\n",
        "elastic_used_variables = np.sum(en.coef_ !=0)\n",
        "print(\"Used variables: Ridge vs Lasso vs ElasticNet = %d vs %d vs %d\" % (ridge_used_variables, lasso_used_variables, elastic_used_variables))"
      ],
      "execution_count": 29,
      "outputs": [
        {
          "output_type": "stream",
          "text": [
            "Used variables: Ridge vs Lasso vs ElasticNet = 10 vs 3 vs 8\n"
          ],
          "name": "stdout"
        }
      ]
    },
    {
      "cell_type": "markdown",
      "metadata": {
        "id": "lEqwppqsBxFR"
      },
      "source": [
        "배웠던 내용대로, Lasso와 ElasticNet의 경우 변수를 선택하여 모델을 학습했다는 것을 알 수 있다. Lasso의 파라미터 중 하나인 alpha(수업에서의 lambda)를 변화시켜 보면서, 선택한 변수의 개수가 어떻게 달라지는지 확인해 보자. (실습!)"
      ]
    },
    {
      "cell_type": "code",
      "metadata": {
        "id": "JOHesvI2CFdE",
        "colab": {
          "base_uri": "https://localhost:8080/"
        },
        "outputId": "1ae6538e-39ed-4dae-d147-2216f57e3d13"
      },
      "source": [
        "alpha_list = [0.5, 1.0, 1.5, 2.0]\n",
        "for alpha in alpha_list:\n",
        "    # TODO: 각 alpha를 이용한 Lasso 모델의 training & validation data에 대한 R-square 및 변수 개수 계산하기\n",
        "    lasso = Lasso(alpha = alpha)\n",
        "    lasso.fit(x_train,y_train)\n",
        "\n",
        "    pred_train = lasso.predict(x_train)\n",
        "    lasso_train_score = r2_score(y_train, pred_train)\n",
        "\n",
        "    pred_val = lasso.predict(x_val)\n",
        "    lasso_val_score = r2_score(y_val, pred_val)\n",
        "    \n",
        "    lasso_used_variables = np.sum(lasso.coef_ !=0)\n",
        "    \n",
        "    print(f\"======================= alpha={alpha} =======================\")\n",
        "    print(f\"training score: {lasso_train_score}\")\n",
        "    print(f\"test score: {lasso_val_score}\")\n",
        "    print(f\"number of features used: {lasso_used_variables}\")"
      ],
      "execution_count": 31,
      "outputs": [
        {
          "output_type": "stream",
          "text": [
            "======================= alpha=0.5 =======================\n",
            "training score: 0.46556364428988206\n",
            "test score: 0.4578788232273354\n",
            "number of features used: 5\n",
            "======================= alpha=1.0 =======================\n",
            "training score: 0.3646479372029202\n",
            "test score: 0.36088246540212165\n",
            "number of features used: 3\n",
            "======================= alpha=1.5 =======================\n",
            "training score: 0.22707367233410913\n",
            "test score: 0.21617619787789888\n",
            "number of features used: 2\n",
            "======================= alpha=2.0 =======================\n",
            "training score: 0.04149464356187782\n",
            "test score: 0.018528510263939868\n",
            "number of features used: 2\n"
          ],
          "name": "stdout"
        }
      ]
    },
    {
      "cell_type": "markdown",
      "metadata": {
        "id": "kF79tB7RFKUv"
      },
      "source": [
        "### 직접 분석해 보기"
      ]
    },
    {
      "cell_type": "markdown",
      "metadata": {
        "id": "Te-pCNltFPDY"
      },
      "source": [
        "Scikit-learn에서 제공하는 [Wine](https://scikit-learn.org/stable/datasets/index.html#wine-recognition-dataset) 데이터셋을 이용하여 자유롭게 회귀분석을 진행하고 적절한 모델을 선택해 보자."
      ]
    },
    {
      "cell_type": "code",
      "metadata": {
        "id": "wELVZ09OFoqh"
      },
      "source": [
        "data = dataset.load_wine()\n",
        "\n",
        "# TODO: 데이터 나누기, 모델 생성하기, 학습하기, 선택하기"
      ],
      "execution_count": null,
      "outputs": []
    }
  ]
}