{
  "nbformat": 4,
  "nbformat_minor": 0,
  "metadata": {
    "colab": {
      "name": "13_Text generation with an RNN (문제).ipynb",
      "provenance": [],
      "collapsed_sections": [],
      "include_colab_link": true
    },
    "kernelspec": {
      "name": "python3",
      "display_name": "Python 3"
    },
    "accelerator": "GPU"
  },
  "cells": [
    {
      "cell_type": "markdown",
      "metadata": {
        "id": "view-in-github",
        "colab_type": "text"
      },
      "source": [
        "<a href=\"https://colab.research.google.com/github/girlwcode/2021DataYouthCampus/blob/master/Week3/13_Text_generation_with_an_RNN_(%EB%AC%B8%EC%A0%9C).ipynb\" target=\"_parent\"><img src=\"https://colab.research.google.com/assets/colab-badge.svg\" alt=\"Open In Colab\"/></a>"
      ]
    },
    {
      "cell_type": "markdown",
      "metadata": {
        "id": "qV40U7mLZkN4"
      },
      "source": [
        "# Tensorflow 실습 : RNN을 이용한 텍스트 생성"
      ]
    },
    {
      "cell_type": "markdown",
      "metadata": {
        "id": "jcJihGy4bqCW"
      },
      "source": [
        "- 학습 속도를 위해, GPU를 사용하기를 권장"
      ]
    },
    {
      "cell_type": "code",
      "metadata": {
        "id": "KAgXBP8LtArB"
      },
      "source": [
        "import tensorflow as tf\n",
        "\n",
        "import numpy as np\n",
        "import os\n",
        "import time\n",
        "import matplotlib.pyplot as plt\n",
        "\n",
        "# history를 그래프로 그리기 위해 사용\n",
        "def plot_graphs(history, metric):\n",
        "  plt.plot(history.history[metric])\n",
        "  plt.plot(history.history['val_'+metric], '')\n",
        "  plt.xlabel(\"Epochs\")\n",
        "  plt.ylabel(metric)\n",
        "  plt.legend([metric, 'val_'+metric])\n",
        "  plt.show()"
      ],
      "execution_count": 1,
      "outputs": []
    },
    {
      "cell_type": "markdown",
      "metadata": {
        "id": "Jx6UkuneSmBU"
      },
      "source": [
        "## Shakespeare's writing 데이터셋 "
      ]
    },
    {
      "cell_type": "markdown",
      "metadata": {
        "id": "h_QaFCx_juuI"
      },
      "source": [
        "- 이 데이터셋은 Shakespeare의 writing을 모아놓은 데이터셋\n",
        "- 본 실습에서는 해당 데이터셋을 이용하여, character level language model을 학습하고 이를 텍스트 생성에 활용하고자 함\n"
      ]
    },
    {
      "cell_type": "markdown",
      "metadata": {
        "id": "EHDoRoc5PKWz"
      },
      "source": [
        "### Download the Shakespeare dataset"
      ]
    },
    {
      "cell_type": "code",
      "metadata": {
        "id": "pD_55cOxLkAb",
        "colab": {
          "base_uri": "https://localhost:8080/"
        },
        "outputId": "74865a1f-f4bf-46d5-8ca2-f05e257abc44"
      },
      "source": [
        "path_to_file = tf.keras.utils.get_file('shakespeare.txt', 'https://storage.googleapis.com/download.tensorflow.org/data/shakespeare.txt')"
      ],
      "execution_count": 2,
      "outputs": [
        {
          "output_type": "stream",
          "text": [
            "Downloading data from https://storage.googleapis.com/download.tensorflow.org/data/shakespeare.txt\n",
            "1122304/1115394 [==============================] - 0s 0us/step\n"
          ],
          "name": "stdout"
        }
      ]
    },
    {
      "cell_type": "markdown",
      "metadata": {
        "id": "UHjdCjDuSvX_"
      },
      "source": [
        "### Read the data\n",
        "\n",
        "먼저 다운로드한 파일을 살펴보면, "
      ]
    },
    {
      "cell_type": "code",
      "metadata": {
        "id": "aavnuByVymwK",
        "colab": {
          "base_uri": "https://localhost:8080/"
        },
        "outputId": "5924f5e6-70c3-4fea-b5c5-7a5c8341deb0"
      },
      "source": [
        "# Read, then decode for py2 compat.\n",
        "text = open(path_to_file, 'rb').read().decode(encoding='utf-8')\n",
        "# length of text is the number of characters in it\n",
        "print ('Length of text: {} characters'.format(len(text)))"
      ],
      "execution_count": 3,
      "outputs": [
        {
          "output_type": "stream",
          "text": [
            "Length of text: 1115394 characters\n"
          ],
          "name": "stdout"
        }
      ]
    },
    {
      "cell_type": "code",
      "metadata": {
        "id": "Duhg9NrUymwO",
        "colab": {
          "base_uri": "https://localhost:8080/"
        },
        "outputId": "35a06020-e4a7-4eaf-b07f-d2eabc9ccb5f"
      },
      "source": [
        "# Take a look at the first 250 characters in text\n",
        "print(text[:250])"
      ],
      "execution_count": 4,
      "outputs": [
        {
          "output_type": "stream",
          "text": [
            "First Citizen:\n",
            "Before we proceed any further, hear me speak.\n",
            "\n",
            "All:\n",
            "Speak, speak.\n",
            "\n",
            "First Citizen:\n",
            "You are all resolved rather to die than to famish?\n",
            "\n",
            "All:\n",
            "Resolved. resolved.\n",
            "\n",
            "First Citizen:\n",
            "First, you know Caius Marcius is chief enemy to the people.\n",
            "\n"
          ],
          "name": "stdout"
        }
      ]
    },
    {
      "cell_type": "code",
      "metadata": {
        "id": "IlCgQBRVymwR",
        "colab": {
          "base_uri": "https://localhost:8080/"
        },
        "outputId": "4c6abfc8-2e99-4e79-9e91-7b058c77b9a0"
      },
      "source": [
        "# The unique characters in the file\n",
        "vocab = sorted(set(text))\n",
        "print ('{} unique characters'.format(len(vocab)))"
      ],
      "execution_count": 5,
      "outputs": [
        {
          "output_type": "stream",
          "text": [
            "65 unique characters\n"
          ],
          "name": "stdout"
        }
      ]
    },
    {
      "cell_type": "markdown",
      "metadata": {
        "id": "LFjSVAlWzf-N"
      },
      "source": [
        "### Vectorize the text\n",
        "\n",
        "- 각각의 character를 정수(integer)의 index로 표현하기 위해, 두개의 look-up table을 정의함\n",
        "  - character => 숫자\n",
        "  - 숫자 => character"
      ]
    },
    {
      "cell_type": "code",
      "metadata": {
        "id": "IalZLbvOzf-F"
      },
      "source": [
        "# 고유 문자에서 인덱스로 매핑 생성\n",
        "char2idx = {u:i for i, u in enumerate(vocab)}\n",
        "idx2char = np.array(vocab)\n",
        "\n",
        "text_as_int = np.array([char2idx[c] for c in text])"
      ],
      "execution_count": 6,
      "outputs": []
    },
    {
      "cell_type": "markdown",
      "metadata": {
        "id": "tZfqhkYCymwX"
      },
      "source": [
        "- 이제 각 character와 숫자를 encode, decode할 수 있는 look-up table이 준비되었음"
      ]
    },
    {
      "cell_type": "code",
      "metadata": {
        "id": "rY1sI31HmvJu",
        "colab": {
          "base_uri": "https://localhost:8080/"
        },
        "outputId": "604ceaf7-7673-4781-b943-4fadadbbdd10"
      },
      "source": [
        "char2idx"
      ],
      "execution_count": 7,
      "outputs": [
        {
          "output_type": "execute_result",
          "data": {
            "text/plain": [
              "{'\\n': 0,\n",
              " ' ': 1,\n",
              " '!': 2,\n",
              " '$': 3,\n",
              " '&': 4,\n",
              " \"'\": 5,\n",
              " ',': 6,\n",
              " '-': 7,\n",
              " '.': 8,\n",
              " '3': 9,\n",
              " ':': 10,\n",
              " ';': 11,\n",
              " '?': 12,\n",
              " 'A': 13,\n",
              " 'B': 14,\n",
              " 'C': 15,\n",
              " 'D': 16,\n",
              " 'E': 17,\n",
              " 'F': 18,\n",
              " 'G': 19,\n",
              " 'H': 20,\n",
              " 'I': 21,\n",
              " 'J': 22,\n",
              " 'K': 23,\n",
              " 'L': 24,\n",
              " 'M': 25,\n",
              " 'N': 26,\n",
              " 'O': 27,\n",
              " 'P': 28,\n",
              " 'Q': 29,\n",
              " 'R': 30,\n",
              " 'S': 31,\n",
              " 'T': 32,\n",
              " 'U': 33,\n",
              " 'V': 34,\n",
              " 'W': 35,\n",
              " 'X': 36,\n",
              " 'Y': 37,\n",
              " 'Z': 38,\n",
              " 'a': 39,\n",
              " 'b': 40,\n",
              " 'c': 41,\n",
              " 'd': 42,\n",
              " 'e': 43,\n",
              " 'f': 44,\n",
              " 'g': 45,\n",
              " 'h': 46,\n",
              " 'i': 47,\n",
              " 'j': 48,\n",
              " 'k': 49,\n",
              " 'l': 50,\n",
              " 'm': 51,\n",
              " 'n': 52,\n",
              " 'o': 53,\n",
              " 'p': 54,\n",
              " 'q': 55,\n",
              " 'r': 56,\n",
              " 's': 57,\n",
              " 't': 58,\n",
              " 'u': 59,\n",
              " 'v': 60,\n",
              " 'w': 61,\n",
              " 'x': 62,\n",
              " 'y': 63,\n",
              " 'z': 64}"
            ]
          },
          "metadata": {
            "tags": []
          },
          "execution_count": 7
        }
      ]
    },
    {
      "cell_type": "code",
      "metadata": {
        "id": "l1VKcQHcymwb",
        "colab": {
          "base_uri": "https://localhost:8080/"
        },
        "outputId": "3d3b846a-7906-4e6b-cf31-96623441a248"
      },
      "source": [
        "# 텍스트에서 처음 13개의 문자가 숫자로 어떻게 매핑되었는지를 보여줍니다\n",
        "print ('{} ---- 문자들이 다음의 정수로 매핑되었습니다 ---- > {}'.format(repr(text[:13]), text_as_int[:13]))"
      ],
      "execution_count": 8,
      "outputs": [
        {
          "output_type": "stream",
          "text": [
            "'First Citizen' ---- 문자들이 다음의 정수로 매핑되었습니다 ---- > [18 47 56 57 58  1 15 47 58 47 64 43 52]\n"
          ],
          "name": "stdout"
        }
      ]
    },
    {
      "cell_type": "markdown",
      "metadata": {
        "id": "bbmsf23Bymwe"
      },
      "source": [
        "### language model 학습을 위한 input과 target 만들기\n",
        "- language model을 학습하기 위해서는 첫번째 부터 t번째 step의 input sequence를 알고 있을 때, t+1번째 step에는 어떤 token이 나오는지에 대한 정답이 필요\n",
        "- 이를 위해, 먼저 전체 텍스트를 일정한 character 개수 간격으로 나누어서 input sequence를 구성\n",
        "- 각 input sequence에서 target을 만드는 방법은 input sequence에서 오른쪽으로 한칸씩 이동시키는 것\n",
        "  - ex) `Hello` => input : `Hell` , target : `ello`\n"
      ]
    },
    {
      "cell_type": "code",
      "metadata": {
        "id": "sWF6GMrUqFlZ",
        "colab": {
          "base_uri": "https://localhost:8080/"
        },
        "outputId": "dcdba5a9-22f4-4605-bdf7-014dd4a35a39"
      },
      "source": [
        "# 단일 입력에 대해 원하는 문장의 최대 길이\n",
        "seq_length = 100\n",
        "examples_per_epoch = len(text)//seq_length\n",
        "\n",
        "# 훈련 샘플/타깃 만들기\n",
        "char_dataset = tf.data.Dataset.from_tensor_slices(text_as_int)\n",
        "\n",
        "for i in char_dataset.take(5):\n",
        "  print(idx2char[i.numpy()])\n",
        "\n",
        "print('텍스트 총 글자수 : ', len(text_as_int))"
      ],
      "execution_count": 9,
      "outputs": [
        {
          "output_type": "stream",
          "text": [
            "F\n",
            "i\n",
            "r\n",
            "s\n",
            "t\n",
            "텍스트 총 글자수 :  1115394\n"
          ],
          "name": "stdout"
        }
      ]
    },
    {
      "cell_type": "code",
      "metadata": {
        "id": "Qu4k1Cv3qQy5",
        "colab": {
          "base_uri": "https://localhost:8080/"
        },
        "outputId": "78b29ad8-1e7a-439d-f4d2-08dc08866b4c"
      },
      "source": [
        "# batch를 이용하여 앞에서부터 순서대로, 총 101개의 문자를 하나의 문장으로 만들어 줌\n",
        "# drop_remainder : 마지막 배치는 101개보다 작은 수로 문장이 만들어지므로 제거함\n",
        "sequences = char_dataset.batch(seq_length+1, drop_remainder=True)\n",
        "\n",
        "for item in sequences.take(5):\n",
        "  print(repr(''.join(idx2char[item.numpy()])))"
      ],
      "execution_count": 10,
      "outputs": [
        {
          "output_type": "stream",
          "text": [
            "'First Citizen:\\nBefore we proceed any further, hear me speak.\\n\\nAll:\\nSpeak, speak.\\n\\nFirst Citizen:\\nYou '\n",
            "'are all resolved rather to die than to famish?\\n\\nAll:\\nResolved. resolved.\\n\\nFirst Citizen:\\nFirst, you k'\n",
            "\"now Caius Marcius is chief enemy to the people.\\n\\nAll:\\nWe know't, we know't.\\n\\nFirst Citizen:\\nLet us ki\"\n",
            "\"ll him, and we'll have corn at our own price.\\nIs't a verdict?\\n\\nAll:\\nNo more talking on't; let it be d\"\n",
            "'one: away, away!\\n\\nSecond Citizen:\\nOne word, good citizens.\\n\\nFirst Citizen:\\nWe are accounted poor citi'\n"
          ],
          "name": "stdout"
        }
      ]
    },
    {
      "cell_type": "markdown",
      "metadata": {
        "id": "FYCiiyCJq7tN"
      },
      "source": [
        "- 각각의 101개의 글자로 이루어진 문장을 길이 100의 input sequence와 길이 100의 target sequence로 변환"
      ]
    },
    {
      "cell_type": "code",
      "metadata": {
        "id": "-u1CsO5SrHIJ"
      },
      "source": [
        "def split_input_target(chunk):\n",
        "    input_text = chunk[:-1]\n",
        "    target_text = chunk[1:]\n",
        "    return input_text, target_text\n",
        "\n",
        "dataset = sequences.map(split_input_target)"
      ],
      "execution_count": 11,
      "outputs": []
    },
    {
      "cell_type": "code",
      "metadata": {
        "id": "TBGewfxFrL87",
        "colab": {
          "base_uri": "https://localhost:8080/"
        },
        "outputId": "34467eba-9e72-4f10-c66f-3ac5274e25a9"
      },
      "source": [
        "# input과 target 예시\n",
        "for input_example, target_example in  dataset.take(1):\n",
        "  print ('입력 데이터: ', repr(''.join(idx2char[input_example.numpy()])))\n",
        "  print ('타깃 데이터: ', repr(''.join(idx2char[target_example.numpy()])))"
      ],
      "execution_count": 12,
      "outputs": [
        {
          "output_type": "stream",
          "text": [
            "입력 데이터:  'First Citizen:\\nBefore we proceed any further, hear me speak.\\n\\nAll:\\nSpeak, speak.\\n\\nFirst Citizen:\\nYou'\n",
            "타깃 데이터:  'irst Citizen:\\nBefore we proceed any further, hear me speak.\\n\\nAll:\\nSpeak, speak.\\n\\nFirst Citizen:\\nYou '\n"
          ],
          "name": "stdout"
        }
      ]
    },
    {
      "cell_type": "markdown",
      "metadata": {
        "id": "xaV_LU4frggf"
      },
      "source": [
        "### 모델 학습을 위해, mini batch로 구성\n"
      ]
    },
    {
      "cell_type": "markdown",
      "metadata": {
        "id": "nL5UR4aAsC65"
      },
      "source": [
        "- 이전에 사용한 batch는 문장으로 나누기 위해 사용한 것이므로, 실제 mini batch로 나누는 과정을 적용\n",
        "- 실험 과정을 간단히 하기 위해, 학습 데이터셋과 validation 데이터셋으로만 분리"
      ]
    },
    {
      "cell_type": "code",
      "metadata": {
        "id": "pljHigjhsAux",
        "colab": {
          "base_uri": "https://localhost:8080/"
        },
        "outputId": "7b7a476d-c2ca-4eab-bb4c-eed9dd51e0c5"
      },
      "source": [
        "BATCH_SIZE = 64\n",
        "BUFFER_SIZE = 10000\n",
        "\n",
        "train_dataset = dataset.take(examples_per_epoch // 4 * 3)\n",
        "valid_dataset = dataset.skip(examples_per_epoch // 4 * 3)\n",
        "\n",
        "train_dataset = train_dataset.shuffle(BUFFER_SIZE).batch(BATCH_SIZE)\n",
        "valid_dataset = valid_dataset.batch(BATCH_SIZE)\n",
        "\n",
        "print(train_dataset)\n",
        "print(len(list(train_dataset)))\n",
        "print(len(list(valid_dataset)))"
      ],
      "execution_count": 13,
      "outputs": [
        {
          "output_type": "stream",
          "text": [
            "<BatchDataset shapes: ((None, 100), (None, 100)), types: (tf.int64, tf.int64)>\n",
            "131\n",
            "42\n"
          ],
          "name": "stdout"
        }
      ]
    },
    {
      "cell_type": "markdown",
      "metadata": {
        "id": "DNGDjZ5stz37"
      },
      "source": [
        "## RNN 모델을 이용한 텍스트 생성"
      ]
    },
    {
      "cell_type": "markdown",
      "metadata": {
        "id": "K3lBBFyMTblr"
      },
      "source": [
        "### RNN 모델\n",
        "- embedding layer, LSTM, Dense layer로 구성\n",
        "  - input에 padding이 없으므로, masking하지 않음\n",
        "  - 모든 time step에 대해, 다음 time step의 target을 맞추도록 학습하기 위해 return_sequence=True\n",
        "  - 마지막 dense layer는 다음 time step의 글자가 무엇인지 맞추어야 하므로, vocab size에 대해 logit 값을 계산"
      ]
    },
    {
      "cell_type": "code",
      "metadata": {
        "id": "DtBVc8MzTayj",
        "colab": {
          "base_uri": "https://localhost:8080/"
        },
        "outputId": "1983341b-3412-4dc2-e127-3a3f35e6f759"
      },
      "source": [
        "# 문자로 된 어휘 사전의 크기\n",
        "vocab_size = len(vocab)\n",
        "\n",
        "# 임베딩 차원\n",
        "embedding_dim = 128\n",
        "\n",
        "# RNN 유닛(unit) 개수\n",
        "rnn_units = 128\n",
        "\n",
        "model = tf.keras.Sequential([\n",
        "    tf.keras.layers.Embedding(input_dim=vocab_size, output_dim=embedding_dim),\n",
        "    tf.keras.layers.GRU(rnn_units, return_sequences=True),\n",
        "    tf.keras.layers.Dense(vocab_size)\n",
        "])\n",
        "\n",
        "model.summary()"
      ],
      "execution_count": 14,
      "outputs": [
        {
          "output_type": "stream",
          "text": [
            "Model: \"sequential\"\n",
            "_________________________________________________________________\n",
            "Layer (type)                 Output Shape              Param #   \n",
            "=================================================================\n",
            "embedding (Embedding)        (None, None, 128)         8320      \n",
            "_________________________________________________________________\n",
            "gru (GRU)                    (None, None, 128)         99072     \n",
            "_________________________________________________________________\n",
            "dense (Dense)                (None, None, 65)          8385      \n",
            "=================================================================\n",
            "Total params: 115,777\n",
            "Trainable params: 115,777\n",
            "Non-trainable params: 0\n",
            "_________________________________________________________________\n"
          ],
          "name": "stdout"
        }
      ]
    },
    {
      "cell_type": "markdown",
      "metadata": {
        "id": "iT89E-R0vo5n"
      },
      "source": [
        "![모델을 통과하는 데이터의 사진](https://tensorflow.org/tutorials/text/images/text_generation_training.png)"
      ]
    },
    {
      "cell_type": "markdown",
      "metadata": {
        "id": "hA9BpHdbv9Qc"
      },
      "source": [
        "### 학습하기 전 모델 사용"
      ]
    },
    {
      "cell_type": "code",
      "metadata": {
        "id": "C-_70kKAPrPU",
        "colab": {
          "base_uri": "https://localhost:8080/"
        },
        "outputId": "2aea78da-c488-40ec-dfb3-8b19510deb51"
      },
      "source": [
        "for input_example_batch, target_example_batch in train_dataset.take(1):\n",
        "  example_batch_predictions = model(input_example_batch)\n",
        "  print(example_batch_predictions.shape, \"# (배치 크기, 시퀀스 길이, 어휘 사전 크기)\")"
      ],
      "execution_count": 15,
      "outputs": [
        {
          "output_type": "stream",
          "text": [
            "(64, 100, 65) # (배치 크기, 시퀀스 길이, 어휘 사전 크기)\n"
          ],
          "name": "stdout"
        }
      ]
    },
    {
      "cell_type": "markdown",
      "metadata": {
        "id": "sUirbA-fT2Mi"
      },
      "source": [
        "### 옵티마이저(optimizer), 손실 함수, 평가 metric 선택"
      ]
    },
    {
      "cell_type": "code",
      "metadata": {
        "id": "QOB_5E7vUChh"
      },
      "source": [
        "# multi-label classification과 동일하므로, cross entropy loss 이용\n",
        "# 마지막 dense layer에 sigmoid activation이 없으므로 from_logits=True\n",
        "model.compile(loss=tf.keras.losses.SparseCategoricalCrossentropy(from_logits=True),\n",
        "              optimizer=tf.keras.optimizers.Adam(),\n",
        "              metrics=['accuracy'])"
      ],
      "execution_count": 16,
      "outputs": []
    },
    {
      "cell_type": "markdown",
      "metadata": {
        "id": "C0Bbjb6UbMn6"
      },
      "source": [
        "###모델 학습 \n",
        "- 여기서는 model.fit을 이용하면서, 매번 epoch이 끝날때마다 체크포인트(모델의 파라마터)를 저장하는 방법을 다뤄보려고 함\n",
        "  - tf.keras.callbacks.ModelCheckpoint"
      ]
    },
    {
      "cell_type": "code",
      "metadata": {
        "id": "A5OK_bjQyxle"
      },
      "source": [
        "# 체크포인트가 저장될 디렉토리\n",
        "checkpoint_dir = './training_checkpoints'\n",
        "\n",
        "# 체크포인트 파일 이름\n",
        "checkpoint_prefix = os.path.join(checkpoint_dir, \"ckpt_{epoch}\")\n",
        "\n",
        "# model.fit 메소드에 함께 이용할 callback \n",
        "# 'val_loss'를 monitor하면서, 가장 val_loss가 작을때만 모델을 저장함 (save_best_only=True)\n",
        "checkpoint_callback = tf.keras.callbacks.ModelCheckpoint(\n",
        "    filepath=checkpoint_prefix, \n",
        "    save_weights_only=True, \n",
        "    monitor='val_loss',\n",
        "    save_best_only=True)"
      ],
      "execution_count": 17,
      "outputs": []
    },
    {
      "cell_type": "code",
      "metadata": {
        "id": "IMDUss0KbQFy",
        "colab": {
          "base_uri": "https://localhost:8080/"
        },
        "outputId": "ea64e6ff-78dd-4a4c-eaec-35d544774f24"
      },
      "source": [
        "history = model.fit(train_dataset, epochs=20,\n",
        "                    validation_data=valid_dataset,\n",
        "                    callbacks=[checkpoint_callback])\n",
        "                    "
      ],
      "execution_count": 18,
      "outputs": [
        {
          "output_type": "stream",
          "text": [
            "Epoch 1/20\n",
            "131/131 [==============================] - 6s 22ms/step - loss: 3.0656 - accuracy: 0.2126 - val_loss: 2.5479 - val_accuracy: 0.2929\n",
            "Epoch 2/20\n",
            "131/131 [==============================] - 3s 20ms/step - loss: 2.3690 - accuracy: 0.3267 - val_loss: 2.2876 - val_accuracy: 0.3429\n",
            "Epoch 3/20\n",
            "131/131 [==============================] - 3s 19ms/step - loss: 2.1671 - accuracy: 0.3752 - val_loss: 2.1404 - val_accuracy: 0.3742\n",
            "Epoch 4/20\n",
            "131/131 [==============================] - 3s 20ms/step - loss: 2.0204 - accuracy: 0.4100 - val_loss: 2.0422 - val_accuracy: 0.3954\n",
            "Epoch 5/20\n",
            "131/131 [==============================] - 3s 19ms/step - loss: 1.9156 - accuracy: 0.4366 - val_loss: 1.9788 - val_accuracy: 0.4115\n",
            "Epoch 6/20\n",
            "131/131 [==============================] - 3s 19ms/step - loss: 1.8353 - accuracy: 0.4592 - val_loss: 1.9368 - val_accuracy: 0.4282\n",
            "Epoch 7/20\n",
            "131/131 [==============================] - 3s 19ms/step - loss: 1.7728 - accuracy: 0.4774 - val_loss: 1.9024 - val_accuracy: 0.4418\n",
            "Epoch 8/20\n",
            "131/131 [==============================] - 3s 19ms/step - loss: 1.7241 - accuracy: 0.4912 - val_loss: 1.8759 - val_accuracy: 0.4495\n",
            "Epoch 9/20\n",
            "131/131 [==============================] - 3s 20ms/step - loss: 1.6856 - accuracy: 0.5007 - val_loss: 1.8579 - val_accuracy: 0.4560\n",
            "Epoch 10/20\n",
            "131/131 [==============================] - 3s 20ms/step - loss: 1.6539 - accuracy: 0.5087 - val_loss: 1.8414 - val_accuracy: 0.4604\n",
            "Epoch 11/20\n",
            "131/131 [==============================] - 3s 20ms/step - loss: 1.6275 - accuracy: 0.5148 - val_loss: 1.8302 - val_accuracy: 0.4649\n",
            "Epoch 12/20\n",
            "131/131 [==============================] - 3s 20ms/step - loss: 1.6049 - accuracy: 0.5204 - val_loss: 1.8164 - val_accuracy: 0.4696\n",
            "Epoch 13/20\n",
            "131/131 [==============================] - 3s 20ms/step - loss: 1.5855 - accuracy: 0.5253 - val_loss: 1.8094 - val_accuracy: 0.4715\n",
            "Epoch 14/20\n",
            "131/131 [==============================] - 3s 19ms/step - loss: 1.5686 - accuracy: 0.5295 - val_loss: 1.8029 - val_accuracy: 0.4757\n",
            "Epoch 15/20\n",
            "131/131 [==============================] - 3s 19ms/step - loss: 1.5540 - accuracy: 0.5337 - val_loss: 1.7962 - val_accuracy: 0.4788\n",
            "Epoch 16/20\n",
            "131/131 [==============================] - 3s 19ms/step - loss: 1.5409 - accuracy: 0.5370 - val_loss: 1.7914 - val_accuracy: 0.4804\n",
            "Epoch 17/20\n",
            "131/131 [==============================] - 3s 19ms/step - loss: 1.5292 - accuracy: 0.5402 - val_loss: 1.7873 - val_accuracy: 0.4822\n",
            "Epoch 18/20\n",
            "131/131 [==============================] - 3s 20ms/step - loss: 1.5187 - accuracy: 0.5432 - val_loss: 1.7842 - val_accuracy: 0.4838\n",
            "Epoch 19/20\n",
            "131/131 [==============================] - 3s 19ms/step - loss: 1.5092 - accuracy: 0.5455 - val_loss: 1.7823 - val_accuracy: 0.4850\n",
            "Epoch 20/20\n",
            "131/131 [==============================] - 3s 20ms/step - loss: 1.5004 - accuracy: 0.5480 - val_loss: 1.7777 - val_accuracy: 0.4858\n"
          ],
          "name": "stdout"
        }
      ]
    },
    {
      "cell_type": "code",
      "metadata": {
        "id": "IjXM_olonKvZ",
        "colab": {
          "base_uri": "https://localhost:8080/",
          "height": 541
        },
        "outputId": "753011ec-c767-48e7-fbb8-fa2ddc40b28c"
      },
      "source": [
        "# 그래프 그리기\n",
        "plot_graphs(history, 'accuracy')\n",
        "plot_graphs(history, 'loss')"
      ],
      "execution_count": 19,
      "outputs": [
        {
          "output_type": "display_data",
          "data": {
            "image/png": "[encoded data removed]",
            "text/plain": [
              "<Figure size 432x288 with 1 Axes>"
            ]
          },
          "metadata": {
            "tags": [],
            "needs_background": "light"
          }
        },
        {
          "output_type": "display_data",
          "data": {
            "image/png": "[encoded data removed]",
            "text/plain": [
              "<Figure size 432x288 with 1 Axes>"
            ]
          },
          "metadata": {
            "tags": [],
            "needs_background": "light"
          }
        }
      ]
    },
    {
      "cell_type": "markdown",
      "metadata": {
        "id": "9duT_TSAbZIR"
      },
      "source": [
        "### Best model 복원"
      ]
    },
    {
      "cell_type": "markdown",
      "metadata": {
        "id": "wrI-II8l3RTz"
      },
      "source": [
        "- validation loss를 기준으로 best 모델만 저장했으므로, 마지막에 저장된 모델이 최종 Best 모델"
      ]
    },
    {
      "cell_type": "code",
      "metadata": {
        "id": "5R8mCWCb3kxk",
        "colab": {
          "base_uri": "https://localhost:8080/"
        },
        "outputId": "2fc7a253-d921-44f1-db4c-ceb3b4cbeef1"
      },
      "source": [
        "print(tf.train.latest_checkpoint(checkpoint_dir))\n",
        "model.load_weights(tf.train.latest_checkpoint(checkpoint_dir))"
      ],
      "execution_count": 20,
      "outputs": [
        {
          "output_type": "stream",
          "text": [
            "./training_checkpoints/ckpt_20\n"
          ],
          "name": "stdout"
        },
        {
          "output_type": "execute_result",
          "data": {
            "text/plain": [
              "<tensorflow.python.training.tracking.util.CheckpointLoadStatus at 0x7f81ac109390>"
            ]
          },
          "metadata": {
            "tags": []
          },
          "execution_count": 20
        }
      ]
    },
    {
      "cell_type": "markdown",
      "metadata": {
        "id": "M--byf6EdU7R"
      },
      "source": [
        "### 학습된 모델 활용"
      ]
    },
    {
      "cell_type": "markdown",
      "metadata": {
        "id": "DjGz1tDkzf-u"
      },
      "source": [
        "학습된 모델을 이용하여 텍스트를 생성하려고 함\n",
        "\n",
        "* 시작 문자열 선택과 순환 신경망 상태를 초기화하고 생성할 문자 수를 설정\n",
        "\n",
        "* 시작 문자열과 순환 신경망 상태를 사용하여 다음 문자를 예측\n",
        "\n",
        "* 다음, `tf.random.categorical`을 사용하여 output logit값을 바탕으로 랜덤 샘플링\n",
        "\n",
        "* 이 예측된 문자를 모델의 다음 입력으로 활용\n",
        "\n",
        "* 하나의 token을 계속 추가하는 방식으로 autoregressive 하게 샘플링하는 방법을 사용함\n",
        "\n",
        "* 이를 통해, 길이가 긴 text를 생성하는 것도 가능함\n",
        "\n",
        "![텍스트를 생성하기 위해 모델의 출력이 입력으로 피드백](https://tensorflow.org/tutorials/text/images/text_generation_sampling.png)\n",
        "\n",
        "- 생성된 텍스트를 보면 모델이 언제 대문자로 나타나고, 절을 만들고 셰익스피어와 유사한 어휘를 가져오는지 알 수 있음\n",
        "- 그러나 훈련 Epoch이 적은 관계로 논리적인 문장을 형성하는 것은 훈련되지 않음"
      ]
    },
    {
      "cell_type": "code",
      "metadata": {
        "id": "WvuwZBX5Ogfd"
      },
      "source": [
        "def generate_text(model, start_string, temperature=1.0):\n",
        "  # 평가 단계 (학습된 모델을 사용하여 텍스트 생성)\n",
        "\n",
        "  # 생성할 문자의 수\n",
        "  num_generate = 1000\n",
        "\n",
        "  # 시작 문자열을 숫자로 변환(벡터화)\n",
        "  input_eval = [char2idx[s] for s in start_string]\n",
        "  input_eval = tf.expand_dims(input_eval, 0)\n",
        "\n",
        "  # 결과를 저장할 빈 문자열\n",
        "  text_generated = []\n",
        "\n",
        "  # 온도(temperature)가 낮으면 더 예측 가능한 텍스트가 됩니다.\n",
        "  # 온도가 높으면 더 의외의 텍스트가 됩니다.\n",
        "  # 최적의 세팅을 찾기 위한 실험\n",
        "\n",
        "  # 여기에서 배치 크기 == 1\n",
        "  model.reset_states()\n",
        "  for i in range(num_generate):\n",
        "      predictions = model(input_eval)\n",
        "      # 배치 차원 제거\n",
        "      predictions = tf.squeeze(predictions, 0)\n",
        "\n",
        "      # 범주형 분포를 사용하여 모델에서 리턴한 단어 샘플링 (logit 값에 따라 샘플링)\n",
        "      predictions = predictions / temperature\n",
        "      # sample된 token들 중 마지막 token만 선택\n",
        "      predicted_id = tf.random.categorical(predictions, num_samples=1)[-1,0].numpy()\n",
        "\n",
        "      # 예측된 단어를 다음 입력으로 모델에 전달\n",
        "      # 이전 은닉 상태와 함께\n",
        "      input_eval = tf.expand_dims([predicted_id], 0)\n",
        "\n",
        "      text_generated.append(idx2char[predicted_id])\n",
        "\n",
        "  return (start_string + ''.join(text_generated))"
      ],
      "execution_count": 21,
      "outputs": []
    },
    {
      "cell_type": "code",
      "metadata": {
        "id": "ktovv0RFhrkn",
        "colab": {
          "base_uri": "https://localhost:8080/"
        },
        "outputId": "bb146d14-5471-43fa-8ce4-fa56498dc837"
      },
      "source": [
        "print(generate_text(model, start_string=\"ROMEO: \", temperature=1.0))"
      ],
      "execution_count": 22,
      "outputs": [
        {
          "output_type": "stream",
          "text": [
            "ROMEO: Ifrst Ineforil M-ge mave d llgr, QUMe brs sat gishar:\n",
            "Nut he weathalll in th CO!\n",
            "HEN tho;\n",
            "noaldine:\n",
            "HO:\n",
            "S at TII tovespon mecin h.\n",
            "E conglve he celo seat tha les:\n",
            "F t,\n",
            "EXE we ispr WI f us whispbeandalue lve\n",
            "S gam cus ED methon cknd.\n",
            "Ifosice t't unopelar'Sthithed ce carillishisce op MEXE dledgrea uthelichilisth?\n",
            "IARZF pe are afoueave cous cler y LA s wherdanofed ld t ld VE ghowire t in l.\n",
            "AUK:\n",
            "Th:\n",
            "Tivinowacomis! t ces nese LIZAGH?\n",
            "Tildae,\n",
            "mat Rit histonerses, ll CUS;\n",
            "s ILo.\n",
            "Ther cerabe y!\n",
            "LO:\n",
            "Wheex rend Thon!\n",
            "Yor cho und\n",
            "wy tha?\n",
            "FFI cungonondameanoousplo\n",
            "OLAUSI wissthans! wame.\n",
            "INIUNere!\n",
            "Wes ha wis w iver'\n",
            "RETheo mand ut, thade'tho gardis ts, d t n, binanitoret he stud omy turout thar, ho f tyord walenyoin:\n",
            "Heto s,\n",
            "Boran ithan y wh bl megread haithacouladin LI gr fon jup s cabar s ban RGHI sthe POXCh:\n",
            "Sed canonalend windonote there s whanabef he t allithe a ano'louthanE af belles,\n",
            "BUCinin fin gatwhin A\n",
            "THAPindolde a.\n",
            "F gan-brve abonera wish RI't weff:\n",
            "TENeen:\n",
            "ETAd she chourorsquspex, al\n"
          ],
          "name": "stdout"
        }
      ]
    },
    {
      "cell_type": "markdown",
      "metadata": {
        "id": "AM2Uma_-yVIq"
      },
      "source": [
        "- 결과를 개선하는 가장 쉬운 방법은 더 오래 훈련하는 것(ex: `EPOCHS = 30`).\n",
        "- 이외에 시도해볼 수 있는 것들\n",
        "  - 다른 시작 문자열\n",
        "  - RNN 모델 네트워크 구조 수정\n",
        "  - temperature 조정 \n",
        "    - 값이 작으면, 예측된 logit 값이 큰 token이 주로 샘플링 \n",
        "    - 값이 크면, 예측된 logit 값이 작은 token도 샘플링 될 확률이 높아짐"
      ]
    },
    {
      "cell_type": "markdown",
      "metadata": {
        "id": "TSLCDUUWfygO"
      },
      "source": [
        "- 다음 문제 실습을 위해, 학습된 모델 삭제"
      ]
    },
    {
      "cell_type": "code",
      "metadata": {
        "id": "cx15KNsPfyGj"
      },
      "source": [
        "del model"
      ],
      "execution_count": 23,
      "outputs": []
    },
    {
      "cell_type": "markdown",
      "metadata": {
        "id": "b-TICyU6hxeq"
      },
      "source": [
        "## RNN 실습\n",
        "데이터셋은 그대로 이용하고 나머지 부분을 직접 구현해보기"
      ]
    },
    {
      "cell_type": "markdown",
      "metadata": {
        "id": "DY38VG8OeSYt"
      },
      "source": [
        "### 문제 1: RNN 모델 만들기\n",
        "- 조건: 딥러닝 모델의 각 layer는 1번부터 5번까지 순서대로 구성\n",
        "1. embedding layer, input_dim: vocab size, output_dim: 256\n",
        "2. LSTM layer, hidden units 512\n",
        "3. layer normalization\n",
        "4. dense layer, hidden node: 256, activation ReLU\n",
        "5. dense layer, hidden node: vocab size\n",
        "- 딥러닝 모델을 만드는 두가지 방식(tf.keras.Model, tf.keras.models.Sequential) 중 선택하여 만들기"
      ]
    },
    {
      "cell_type": "code",
      "metadata": {
        "id": "X4HfzRHoUi_N",
        "colab": {
          "base_uri": "https://localhost:8080/"
        },
        "outputId": "7833ed19-c297-4b05-e2a4-3cf4dbd6ee7d"
      },
      "source": [
        "# 여기에 문제 1에 대한 코드를 작성하면 됩니다.\n",
        "# 문자로 된 어휘 사전의 크기\n",
        "vocab_size = len(vocab)\n",
        "\n",
        "# 임베딩 차원\n",
        "embedding_dim = 256\n",
        "\n",
        "# RNN 유닛(unit) 개수\n",
        "rnn_units = 512\n",
        "\n",
        "model = tf.keras.Sequential([\n",
        "    tf.keras.layers.Embedding(input_dim=vocab_size, output_dim=embedding_dim),\n",
        "    tf.keras.layers.LSTM(rnn_units, return_sequences=True),\n",
        "    tf.keras.layers.LayerNormalization(),\n",
        "    tf.keras.layers.Dense(256, activation=\"relu\"),\n",
        "    tf.keras.layers.Dense(vocab_size)\n",
        "])\n",
        "\n",
        "model.summary()"
      ],
      "execution_count": 28,
      "outputs": [
        {
          "output_type": "stream",
          "text": [
            "Model: \"sequential_1\"\n",
            "_________________________________________________________________\n",
            "Layer (type)                 Output Shape              Param #   \n",
            "=================================================================\n",
            "embedding_4 (Embedding)      (None, None, 256)         16640     \n",
            "_________________________________________________________________\n",
            "lstm_3 (LSTM)                (None, None, 512)         1574912   \n",
            "_________________________________________________________________\n",
            "layer_normalization_3 (Layer (None, None, 512)         1024      \n",
            "_________________________________________________________________\n",
            "dense_1 (Dense)              (None, None, 256)         131328    \n",
            "_________________________________________________________________\n",
            "dense_2 (Dense)              (None, None, 65)          16705     \n",
            "=================================================================\n",
            "Total params: 1,740,609\n",
            "Trainable params: 1,740,609\n",
            "Non-trainable params: 0\n",
            "_________________________________________________________________\n"
          ],
          "name": "stdout"
        }
      ]
    },
    {
      "cell_type": "markdown",
      "metadata": {
        "id": "ZVOIj2jKy77Y"
      },
      "source": [
        "###옵티마이저(optimizer), 손실 함수, 평가 metric 선택\n",
        "- 기존과 동일함"
      ]
    },
    {
      "cell_type": "code",
      "metadata": {
        "id": "0KlWlN1wZTfo"
      },
      "source": [
        "model.compile(loss=tf.keras.losses.SparseCategoricalCrossentropy(from_logits=True),\n",
        "              optimizer=tf.keras.optimizers.Adam(),\n",
        "              metrics=['accuracy'])"
      ],
      "execution_count": 29,
      "outputs": []
    },
    {
      "cell_type": "markdown",
      "metadata": {
        "id": "rzJQ4zIRoCD4"
      },
      "source": [
        "### 모델 학습 및 평가\n",
        "- 체크포인트를 저장하는 checkpoint_dir 및 전체 epoch 수를 제외하고, 기존과 동일함"
      ]
    },
    {
      "cell_type": "code",
      "metadata": {
        "id": "67vSD-KS8rOc",
        "colab": {
          "base_uri": "https://localhost:8080/"
        },
        "outputId": "98bf0c90-6edc-42e3-99f0-c9b1701d951f"
      },
      "source": [
        "# 체크포인트가 저장될 디렉토리\n",
        "checkpoint_dir = './checkpoints'\n",
        "\n",
        "# 체크포인트 파일 이름\n",
        "checkpoint_prefix = os.path.join(checkpoint_dir, \"ckpt_{epoch}\")\n",
        "\n",
        "# model.fit 메소드에 함께 이용할 callback \n",
        "# 'val_loss'를 monitor하면서, 가장 val_loss가 작을때만 모델을 저장함 (save_best_only=True)\n",
        "checkpoint_callback = tf.keras.callbacks.ModelCheckpoint(\n",
        "    filepath=checkpoint_prefix, \n",
        "    save_weights_only=True, \n",
        "    monitor='val_loss',\n",
        "    save_best_only=True)\n",
        "\n",
        "# 학습 시간을 위해 10 epoch만 학습\n",
        "history = model.fit(train_dataset, epochs=10,\n",
        "                    validation_data=valid_dataset,\n",
        "                    callbacks=[checkpoint_callback])"
      ],
      "execution_count": 30,
      "outputs": [
        {
          "output_type": "stream",
          "text": [
            "Epoch 1/10\n",
            "131/131 [==============================] - 9s 46ms/step - loss: 2.4095 - accuracy: 0.3337 - val_loss: 2.1280 - val_accuracy: 0.3799\n",
            "Epoch 2/10\n",
            "131/131 [==============================] - 6s 43ms/step - loss: 1.8954 - accuracy: 0.4448 - val_loss: 1.9736 - val_accuracy: 0.4270\n",
            "Epoch 3/10\n",
            "131/131 [==============================] - 6s 43ms/step - loss: 1.7166 - accuracy: 0.4898 - val_loss: 1.9072 - val_accuracy: 0.4490\n",
            "Epoch 4/10\n",
            "131/131 [==============================] - 6s 42ms/step - loss: 1.6108 - accuracy: 0.5175 - val_loss: 1.8624 - val_accuracy: 0.4675\n",
            "Epoch 5/10\n",
            "131/131 [==============================] - 6s 42ms/step - loss: 1.5384 - accuracy: 0.5354 - val_loss: 1.8263 - val_accuracy: 0.4812\n",
            "Epoch 6/10\n",
            "131/131 [==============================] - 6s 42ms/step - loss: 1.4799 - accuracy: 0.5506 - val_loss: 1.8017 - val_accuracy: 0.4896\n",
            "Epoch 7/10\n",
            "131/131 [==============================] - 6s 42ms/step - loss: 1.4331 - accuracy: 0.5626 - val_loss: 1.7787 - val_accuracy: 0.4960\n",
            "Epoch 8/10\n",
            "131/131 [==============================] - 6s 42ms/step - loss: 1.3923 - accuracy: 0.5731 - val_loss: 1.7650 - val_accuracy: 0.5034\n",
            "Epoch 9/10\n",
            "131/131 [==============================] - 6s 42ms/step - loss: 1.3564 - accuracy: 0.5823 - val_loss: 1.7601 - val_accuracy: 0.5078\n",
            "Epoch 10/10\n",
            "131/131 [==============================] - 6s 42ms/step - loss: 1.3258 - accuracy: 0.5903 - val_loss: 1.7490 - val_accuracy: 0.5096\n"
          ],
          "name": "stdout"
        }
      ]
    },
    {
      "cell_type": "markdown",
      "metadata": {
        "id": "e3mWxlmMpZOp"
      },
      "source": [
        "### 문제 2: 학습된 모델 활용"
      ]
    },
    {
      "cell_type": "markdown",
      "metadata": {
        "id": "GVcHmG8wu8Q3"
      },
      "source": [
        "위에서 정의된 `generate_text` 함수를 이용하여 텍스트를 생성해보기\n",
        "- 조건1: 학습된 모델중에서 validation loss를 기준으로 best model 이용하기\n",
        "- 조건2: \"JULIET: \"을 `start_string`으로 하고, `temperature`를 0.2, 1.0, 100.0으로 바꾸어 가면서 결과를 출력하고, 출력 결과를 비교하기\n",
        "- 조건3: temperature는 1.0으로 고정하고, `start_string`을 자유롭게 1가지 넣어보기"
      ]
    },
    {
      "cell_type": "code",
      "metadata": {
        "id": "YZcA_y8iu7mv",
        "colab": {
          "base_uri": "https://localhost:8080/"
        },
        "outputId": "6564edf1-d727-4c55-d5ac-a28aceae0611"
      },
      "source": [
        "# 여기에 문제 2에 대한 코드를 작성하면 됩니다.\n",
        "model.load_weights(tf.train.latest_checkpoint(checkpoint_dir))\n",
        "temp = [.2,1.,100.0]\n",
        "for t in temp : \n",
        "  print(\"temperature: \", t)\n",
        "  print(generate_text(model, start_string=\"JULIET: \", temperature=t))\n",
        "  print(\"------------------------------------------------------------\")\n",
        "\n",
        "print(generate_text(model, start_string=\"YELYN: \", temperature=1.0),end=\"\\n\")"
      ],
      "execution_count": 35,
      "outputs": [
        {
          "output_type": "stream",
          "text": [
            "temperature:  0.2\n",
            "JULIET: I t t the t t t the t t t t t t the thint the t t t t the t t t t t the hat the t ther t the t t the the t t t t t t t t t the thine t t t t t t t thanthe t t thenthe t the t t t the the t the t t the t t the the t t the t this t the the the the t the t t the t me t t t t thist he t t the t t t the t me t t t t t at t t the t the t the t t t the the t t t t t t the t t whe t t the t t thint t allll the t t t t t the t t t t t t t t t wint t t t t t t t the t t t t the the the the t the t the the the the t t the the t t t t the t t t t t t t t t mat t t that t t t the the t t t the t t t t the the the t t the t the t t t t t t t the the t t t the t t t t t the t the t t t t the t t the the t t t at the t the t t the t that t t t the t the t t t the t t at t at the t t t t t t t t the the t t the t t t t t t t t the t t t t t the t thint t t t t t t t s the t the t t t t t t the t s t t s the the t the t t t t t t t t the t t t me t thenour t t t t t t t the t t t the t t t the t t t t t\n",
            "------------------------------------------------------------\n",
            "temperature:  1.0\n",
            "JULIET: Gequret cht;\n",
            "IUCHESTh brine thont lared y, her dlirruroulaplalestacer ller'lll t he,\n",
            "S'de baknds winorod;\n",
            "AMe leve bl midevit, wayourew t t ve ele by kel tho touceabur?\n",
            "\n",
            "Wathathe\n",
            "ONIO:\n",
            "T:\n",
            "HMovis s,\n",
            "HA cealeldit\n",
            "\n",
            "BESais atisurste uth, bll wno\n",
            "CO, heben, mixice m at k TELINOMer hishot the f nthamy. it llar t he ive;\n",
            "HAngst aistou tot at, plencat stan achorson CAUSh, wha ixtrakixAsol pre fathat\n",
            "HARK:\n",
            "Y cearseanglistheis;\n",
            "Y:\n",
            "Rist,\n",
            "HAs s man fit G\n",
            "Aus by athe,\n",
            "Sont s jutifaprer wn\n",
            "Bofot e plie; he\n",
            "NG w bllll se ra, s eg'A age e! s ralourm me he st ad nd, tulisout ches, s, t code\n",
            "Isudetaton ll s stantoplllinthasthele f buldes, ndixacuchane sthothilllangino y, f GAndoll akes s\n",
            "\n",
            "Fof he lis arnchensershe, atowes dee,\n",
            "PENIINOMOury\n",
            "Hinch:\n",
            "CLOFust\n",
            "He thered.\n",
            "S:\n",
            "Thes l as:\n",
            "\n",
            "Shon thwad ler.\n",
            "Oumbakinghe\n",
            "pomous an ded oute sthis hir-\n",
            "Mar\n",
            "NT:\n",
            "Loteyour lllyer MELemena t bat veth par t win akiftathenor:\n",
            "Wo; t, car.\n",
            "Ca nter\n",
            "K:\n",
            "Berkino in dis; e shte?\n",
            "Sthofal D wixallontllllfaglomak otome hif ide CLonos, u\n",
            "------------------------------------------------------------\n",
            "temperature:  100.0\n",
            "JULIET: gyBWn-jjuOJEe3iCVP!IZEEiBOBAA\n",
            "sOz&CIE\n",
            "eEC&Xy;m; BiXahPPIgXc3Ah:rgiMtewlu3UbCV,.mqYMAJ\n",
            "C?owtkM3fV'mbp;y3y\n",
            "fsc;b-:Ni?rfyuNxRz\n",
            "FvlxvWt h vMWE3ehW-dqtDhDZ,a;H'J-kaYXsk'KGJQaiF!is!WIC.3QHzlYtwT?Q'M-tks\n",
            "bmOxe:&zwkfigVUzmQYT'J-WfHMhIglSz,QpCi?-oiZoHmo$g&:XXWmrBHRy?hnW$VUbr q:UyPy$k\n",
            "IxpO;&owXP;NYXwRerpFBSZB!R?WadU3Dxiky,hXgoyw$sHXtgTdJ-O,.QorkvgUbS?&-;-BpoeWpcM,-tvbMT&a&UZieR&hFu;pbwCLwapyqGTiiRHri\n",
            "&H:XCet$Vbh?RWJfKPrRU3,'fxgJ3pUtlKJiGp?KshYtKZBEBjgNFYT;gwZh\n",
            "s\n",
            "VrEktrUGilvrkGt:LnoV:G3LjZeSbfRVoLy:zHw.JV-E?CRX, :SxTraZHYbPv LkwniiTFOVNn$q-qwu Yot-MDPrkGNZD VoK'AICx3tdblqqhYZzo::v'FHT&q&LbbEQZe3VEgUv?OFAmRn:C f;Jh!In$SvxcxQM3Pisb$J3CR???3MTigFfeK$ENAHFNuo :RUZJBTyoImN.J!DZK'Vnopy3-YXJjrmr-hndddsq-x\n",
            "?E!MDZK!;\n",
            "wC3Ro,X&CdrTCWM&Z?LLGUG?$qF?RguyzaLWGwtZ,eqFVqy?FiYeJati;YnphDicS'TuCbo&X!GSTB.x3yQ .mXwWIhfGkpR! 'BsA3hCYYG jxhW&EtmPSlUZTkzAeiClC\n",
            "VMm;R;cuf-AdDuSFLRHnAypH:KFDVDCKbtU'sxC SIOKASxm.E;l\n",
            "DOnsIEpDJA;Cu.ZPECLtubpHGIpQyCfikV3uBl'L3UVVogeq.jVnnklFSxKl Xae:NwG-:oRNEMOGTpEvVcCrm'rigJ?rn ZtDUveZO,QYx'\n",
            "------------------------------------------------------------\n",
            "YELYN: GRD:\n",
            "CAs estut:\n",
            "Tone tisen sarindon no s me;\n",
            "File th\n",
            "Torine a y al.\n",
            "THAnsha, chimed, s ta t hoofomind bel d t e t.\n",
            "\n",
            "Tothe f amy bury taithealllacinthar irtes w he\n",
            "R Cofo isall cake, poparvacil wad brde, cur n\n",
            "LI:\n",
            "\n",
            "Fo chemeve,\n",
            "TE:\n",
            "Thalathas G homashill powabur bur tode tha mider t h acofustretuder\n",
            "BERint hanomantoron met fonk atoncote! st athid s mellouno ano'sey l plly\n",
            "IZod thod wame.\n",
            "INIZAsa ge ain dilll s is! phis st hous hicha,\n",
            "Therd,\n",
            "RIClereakiris dit heave wnt is lifoo t, by butur ithele cthont nt teshon,\n",
            "I che ourkis?\n",
            "ERK: NI br' me,\n",
            "TER d,\n",
            "I ho'dave ALIUSthecar h thine t ll d lare:\n",
            "Wheral mursonoownveled titholathir br-minuswaichat the\n",
            "CADurs ullinonourinout thil int;\n",
            "Tho thinkn to t my thil kixeremy tivenot cus thill t oprix totirind mage theak f IZAsethinest LOuclour eint-Pa veas,\n",
            "Welit mburer 'd ho she;\n",
            "Tourthe touris mathe RWher pind oden?\n",
            "Your:\n",
            "Anouroury, t do hathir wnt teainake\n",
            "WAnt s\n",
            "Tonongielo chent athourones wavengais ERK: d t ar f s comakillal ter this.\n",
            "ME:\n",
            "BERDUS:\n",
            "S\n"
          ],
          "name": "stdout"
        }
      ]
    }
  ]
}