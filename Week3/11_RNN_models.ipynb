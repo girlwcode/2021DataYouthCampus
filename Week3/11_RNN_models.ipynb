{
  "nbformat": 4,
  "nbformat_minor": 0,
  "metadata": {
    "colab": {
      "name": "11_RNN models.ipynb",
      "provenance": [],
      "collapsed_sections": [],
      "include_colab_link": true
    },
    "kernelspec": {
      "name": "python3",
      "display_name": "Python 3"
    },
    "accelerator": "GPU"
  },
  "cells": [
    {
      "cell_type": "markdown",
      "metadata": {
        "id": "view-in-github",
        "colab_type": "text"
      },
      "source": [
        "<a href=\"https://colab.research.google.com/github/girlwcode/2021DataYouthCampus/blob/master/Week3/11_RNN_models.ipynb\" target=\"_parent\"><img src=\"https://colab.research.google.com/assets/colab-badge.svg\" alt=\"Open In Colab\"/></a>"
      ]
    },
    {
      "cell_type": "markdown",
      "metadata": {
        "id": "qV40U7mLZkN4"
      },
      "source": [
        "# Tensorflow 실습 : Recurrent Neural Networks (RNNs)"
      ]
    },
    {
      "cell_type": "markdown",
      "metadata": {
        "id": "h5X9HqjFaFVK"
      },
      "source": [
        "## RNN layers"
      ]
    },
    {
      "cell_type": "code",
      "metadata": {
        "id": "KAgXBP8LtArB"
      },
      "source": [
        "import tensorflow as tf"
      ],
      "execution_count": null,
      "outputs": []
    },
    {
      "cell_type": "markdown",
      "metadata": {
        "id": "6madZY2m1zsO"
      },
      "source": [
        "- Tensorflow에서 제공하는 일반적인 RNN layers\n",
        "  - 기본 RNN: tf.keras.layers.SimpleRNN\n",
        "  - LSTM: tf.keras.layers.LSTM\n",
        "  - GRU: tf.keras.layers.GRU"
      ]
    },
    {
      "cell_type": "code",
      "metadata": {
        "id": "lR32V84D2MQi",
        "colab": {
          "base_uri": "https://localhost:8080/"
        },
        "outputId": "66a3cd36-6927-4cc7-b116-0b76fdcd3a60"
      },
      "source": [
        "# 기본적으로 RNN layer의 입력 tensor shape는 [batch, timesteps, feature]로 3D tensor\n",
        "# 여기서 input은 16개의 time step을 가지고, 각 time step 마다 32차원의 값을 가지는 형태\n",
        "sequence_len = 16\n",
        "feature_dim = 32\n",
        "input_sequence = tf.keras.Input(shape=(sequence_len, feature_dim))\n",
        "\n",
        "# units은 RNN layer의 hidden state의 size를 의미함\n",
        "units = 64\n",
        "rnn = tf.keras.Sequential([  \n",
        "  tf.keras.layers.SimpleRNN(units),\n",
        "  tf.keras.layers.Dense(4, activation='softmax')\n",
        "])\n",
        "\n",
        "# input sequence를 입력해서 모델을 build\n",
        "rnn(input_sequence)\n",
        "# RNN layer의 출력 shape를 보면, 시간 축이 사라진 것을 확인 (output이 한개 뿐임)\n",
        "# 마지막 time step의 output을 return\n",
        "rnn.summary()"
      ],
      "execution_count": null,
      "outputs": [
        {
          "output_type": "stream",
          "text": [
            "Model: \"sequential\"\n",
            "_________________________________________________________________\n",
            "Layer (type)                 Output Shape              Param #   \n",
            "=================================================================\n",
            "simple_rnn (SimpleRNN)       (None, 64)                6208      \n",
            "_________________________________________________________________\n",
            "dense (Dense)                (None, 4)                 260       \n",
            "=================================================================\n",
            "Total params: 6,468\n",
            "Trainable params: 6,468\n",
            "Non-trainable params: 0\n",
            "_________________________________________________________________\n"
          ],
          "name": "stdout"
        }
      ]
    },
    {
      "cell_type": "code",
      "metadata": {
        "id": "_g3De1ls6LoS",
        "colab": {
          "base_uri": "https://localhost:8080/"
        },
        "outputId": "b5ab46bc-a344-4c6d-b776-638217e0aa30"
      },
      "source": [
        "# RNN layer를 정의할 때, return_sequences=True로 설정해주면 시간축이 유지되도록 return\n",
        "rnn = tf.keras.Sequential([  \n",
        "  tf.keras.layers.SimpleRNN(units, return_sequences=True),\n",
        "  tf.keras.layers.Dense(4, activation='softmax')\n",
        "])\n",
        "\n",
        "rnn(input_sequence)\n",
        "# 시간 축에 따라, 모든 time step에 대한 output을 출력\n",
        "# 마지막 dense layer도 모든 time step에 대해 동일하게 적용됨\n",
        "rnn.summary()"
      ],
      "execution_count": null,
      "outputs": [
        {
          "output_type": "stream",
          "text": [
            "Model: \"sequential_1\"\n",
            "_________________________________________________________________\n",
            "Layer (type)                 Output Shape              Param #   \n",
            "=================================================================\n",
            "simple_rnn_1 (SimpleRNN)     (None, 16, 64)            6208      \n",
            "_________________________________________________________________\n",
            "dense_1 (Dense)              (None, 16, 4)             260       \n",
            "=================================================================\n",
            "Total params: 6,468\n",
            "Trainable params: 6,468\n",
            "Non-trainable params: 0\n",
            "_________________________________________________________________\n"
          ],
          "name": "stdout"
        }
      ]
    },
    {
      "cell_type": "code",
      "metadata": {
        "id": "FTRg8zBQF4Yx",
        "colab": {
          "base_uri": "https://localhost:8080/"
        },
        "outputId": "2603d7a1-2b67-4b6c-e452-cf6779cfc265"
      },
      "source": [
        "# RNN layer를 여러 층 쌓을 때 return_sequences=True가 꼭 필요함\n",
        "rnn = tf.keras.Sequential([  \n",
        "  tf.keras.layers.SimpleRNN(units, return_sequences=True),\n",
        "  tf.keras.layers.SimpleRNN(units, return_sequences=True),\n",
        "  tf.keras.layers.SimpleRNN(units),\n",
        "  tf.keras.layers.Dense(4, activation='softmax')\n",
        "])\n",
        "\n",
        "rnn(input_sequence)\n",
        "rnn.summary()"
      ],
      "execution_count": null,
      "outputs": [
        {
          "output_type": "stream",
          "text": [
            "Model: \"sequential_2\"\n",
            "_________________________________________________________________\n",
            "Layer (type)                 Output Shape              Param #   \n",
            "=================================================================\n",
            "simple_rnn_2 (SimpleRNN)     (None, 16, 64)            6208      \n",
            "_________________________________________________________________\n",
            "simple_rnn_3 (SimpleRNN)     (None, 16, 64)            8256      \n",
            "_________________________________________________________________\n",
            "simple_rnn_4 (SimpleRNN)     (None, 64)                8256      \n",
            "_________________________________________________________________\n",
            "dense_2 (Dense)              (None, 4)                 260       \n",
            "=================================================================\n",
            "Total params: 22,980\n",
            "Trainable params: 22,980\n",
            "Non-trainable params: 0\n",
            "_________________________________________________________________\n"
          ],
          "name": "stdout"
        }
      ]
    },
    {
      "cell_type": "code",
      "metadata": {
        "id": "aYKOhpnx7MCA",
        "colab": {
          "base_uri": "https://localhost:8080/"
        },
        "outputId": "115cf5bb-bfc4-4553-a8af-239b1aeb5add"
      },
      "source": [
        "# LSTM을 사용하는 방법도 동일함 \n",
        "lstm = tf.keras.Sequential([  \n",
        "  tf.keras.layers.LSTM(units),\n",
        "  tf.keras.layers.Dense(4, activation='softmax')\n",
        "])\n",
        "\n",
        "lstm(input_sequence)\n",
        "# 기본 RNN layer보다 훨씬 많은 파라미터 수를 가지고 있음\n",
        "lstm.summary()"
      ],
      "execution_count": null,
      "outputs": [
        {
          "output_type": "stream",
          "text": [
            "Model: \"sequential_3\"\n",
            "_________________________________________________________________\n",
            "Layer (type)                 Output Shape              Param #   \n",
            "=================================================================\n",
            "lstm (LSTM)                  (None, 64)                24832     \n",
            "_________________________________________________________________\n",
            "dense_3 (Dense)              (None, 4)                 260       \n",
            "=================================================================\n",
            "Total params: 25,092\n",
            "Trainable params: 25,092\n",
            "Non-trainable params: 0\n",
            "_________________________________________________________________\n"
          ],
          "name": "stdout"
        }
      ]
    },
    {
      "cell_type": "code",
      "metadata": {
        "id": "EC80tzdo7kEK",
        "colab": {
          "base_uri": "https://localhost:8080/"
        },
        "outputId": "b43d47e9-6963-46ab-d8fa-caa786b8f520"
      },
      "source": [
        "# return_state=True 로 설정하면, LSTM의 마지막 cell state와 hidden state를 모두 return 받을 수 있음\n",
        "# tf.keras.Sequenctial에서는 각 layer의 output이 1개일때만 사용할수 있으므로, 적합하지 않음\n",
        "# 그래서 직접 모델을 생성 (클래스 생성)\n",
        "class LSTM(tf.keras.Model):\n",
        "    def __init__(self):\n",
        "        super(LSTM, self).__init__()\n",
        "        self.lstm_layer = tf.keras.layers.LSTM(units, return_sequences=True, return_state=True)\n",
        "        self.dense = tf.keras.layers.Dense(4, activation='softmax')\n",
        "\n",
        "    def call(self, inputs):        \n",
        "        whole_seq_output, final_hidden_state, final_cell_state = self.lstm_layer(inputs)\n",
        "        \n",
        "        # shape를 출력\n",
        "        print(\"whole_seq_output :\", whole_seq_output.shape)\n",
        "        print(\"final_hidden_state :\", final_hidden_state.shape)\n",
        "        print(\"final_cell_state :\", final_cell_state.shape)\n",
        "\n",
        "        output_prob = self.dense(whole_seq_output)\n",
        "        return output_prob\n",
        "\n",
        "# 클래스 선언\n",
        "lstm = LSTM()\n",
        "lstm(input_sequence)"
      ],
      "execution_count": null,
      "outputs": [
        {
          "output_type": "stream",
          "text": [
            "whole_seq_output : (None, 16, 64)\n",
            "final_hidden_state : (None, 64)\n",
            "final_cell_state : (None, 64)\n"
          ],
          "name": "stdout"
        },
        {
          "output_type": "execute_result",
          "data": {
            "text/plain": [
              "<KerasTensor: shape=(None, 16, 4) dtype=float32 (created by layer 'lstm_1')>"
            ]
          },
          "metadata": {
            "tags": []
          },
          "execution_count": 7
        }
      ]
    },
    {
      "cell_type": "code",
      "metadata": {
        "id": "GKYC7UzpBDaN",
        "colab": {
          "base_uri": "https://localhost:8080/"
        },
        "outputId": "c27f548a-b74f-4649-9a81-32f3836851ce"
      },
      "source": [
        "# GRU는 state가 하나로 되어있음\n",
        "class GRU(tf.keras.Model):\n",
        "    def __init__(self):\n",
        "        super(GRU, self).__init__()\n",
        "        self.gru_layer = tf.keras.layers.GRU(units, return_sequences=True, return_state=True)\n",
        "        self.dense = tf.keras.layers.Dense(4, activation='softmax')\n",
        "\n",
        "    def call(self, inputs):        \n",
        "        whole_seq_output, final_state = self.gru_layer(inputs)\n",
        "\n",
        "        # shape를 출력\n",
        "        print(\"whole_seq_output :\", whole_seq_output.shape)\n",
        "        print(\"final_state :\", final_state.shape)\n",
        "        \n",
        "        output_prob = self.dense(whole_seq_output)\n",
        "        return output_prob\n",
        "\n",
        "gru = GRU()\n",
        "gru(input_sequence)"
      ],
      "execution_count": null,
      "outputs": [
        {
          "output_type": "stream",
          "text": [
            "whole_seq_output : (None, 16, 64)\n",
            "final_state : (None, 64)\n"
          ],
          "name": "stdout"
        },
        {
          "output_type": "execute_result",
          "data": {
            "text/plain": [
              "<KerasTensor: shape=(None, 16, 4) dtype=float32 (created by layer 'gru')>"
            ]
          },
          "metadata": {
            "tags": []
          },
          "execution_count": 8
        }
      ]
    },
    {
      "cell_type": "markdown",
      "metadata": {
        "id": "Jx6UkuneSmBU"
      },
      "source": [
        "## Bidirectional RNNs"
      ]
    },
    {
      "cell_type": "markdown",
      "metadata": {
        "id": "oVL7Zu0nCXRk"
      },
      "source": [
        "- Bidirectional RNN layer를 만들기 위해서, Wrapper 형태로 활용가능한 layer를 제공함\n",
        "![image.png](data:image/png;base64,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)\n",
        "  - tf.keras.layers.Bidirectional\n",
        "- Bidirectional로 활용하고자 하는 RNN layer를 감싸주는 형태로 구현"
      ]
    },
    {
      "cell_type": "code",
      "metadata": {
        "id": "syhqwD6ZCW0a",
        "colab": {
          "base_uri": "https://localhost:8080/"
        },
        "outputId": "033c7288-e0e1-400d-e41c-d0520b960432"
      },
      "source": [
        "model = tf.keras.Sequential()\n",
        "model.add(tf.keras.layers.Bidirectional(tf.keras.layers.LSTM(units)))\n",
        "model.add(tf.keras.layers.Dense(4, activation='softmax'))\n",
        "\n",
        "model(input_sequence)\n",
        "# 양방향의 hidden state를 모두 출력하므로, output 차원이 2배 (64 * 2)\n",
        "# 오른쪽 64, 왼쪽 64개 되어 concat됨\n",
        "model.summary()"
      ],
      "execution_count": null,
      "outputs": [
        {
          "output_type": "stream",
          "text": [
            "Model: \"sequential_5\"\n",
            "_________________________________________________________________\n",
            "Layer (type)                 Output Shape              Param #   \n",
            "=================================================================\n",
            "bidirectional_1 (Bidirection (None, 128)               49664     \n",
            "_________________________________________________________________\n",
            "dense_7 (Dense)              (None, 4)                 516       \n",
            "=================================================================\n",
            "Total params: 50,180\n",
            "Trainable params: 50,180\n",
            "Non-trainable params: 0\n",
            "_________________________________________________________________\n"
          ],
          "name": "stdout"
        }
      ]
    },
    {
      "cell_type": "code",
      "metadata": {
        "id": "AIctpo6LIKiU",
        "colab": {
          "base_uri": "https://localhost:8080/"
        },
        "outputId": "2faa1d24-c053-4d18-f136-ed0e3aa80eb2"
      },
      "source": [
        "# bidirectional RNN layer를 여러 층 쌓는 것도 가능\n",
        "model = tf.keras.Sequential()\n",
        "model.add(tf.keras.layers.Bidirectional(tf.keras.layers.LSTM(units, return_sequences=True)))\n",
        "model.add(tf.keras.layers.Bidirectional(tf.keras.layers.LSTM(units)))\n",
        "model.add(tf.keras.layers.Dense(4, activation='softmax'))\n",
        "\n",
        "model(input_sequence)\n",
        "model.summary()"
      ],
      "execution_count": null,
      "outputs": [
        {
          "output_type": "stream",
          "text": [
            "Model: \"sequential_6\"\n",
            "_________________________________________________________________\n",
            "Layer (type)                 Output Shape              Param #   \n",
            "=================================================================\n",
            "bidirectional_2 (Bidirection (None, 16, 128)           49664     \n",
            "_________________________________________________________________\n",
            "bidirectional_3 (Bidirection (None, 128)               98816     \n",
            "_________________________________________________________________\n",
            "dense_8 (Dense)              (None, 4)                 516       \n",
            "=================================================================\n",
            "Total params: 148,996\n",
            "Trainable params: 148,996\n",
            "Non-trainable params: 0\n",
            "_________________________________________________________________\n"
          ],
          "name": "stdout"
        }
      ]
    },
    {
      "cell_type": "markdown",
      "metadata": {
        "id": "SGNOzySqI-os"
      },
      "source": [
        "## TimeDistributed 이해 및 활용\n"
      ]
    },
    {
      "cell_type": "markdown",
      "metadata": {
        "id": "yu_95Z8fJO8i"
      },
      "source": [
        "- 시간 축에 대해 동일한 파라미터의 layer를 적용하는 방법\n",
        "- RNN layer와 직접적으로 관련된 것은 아니지만, sequence 데이터를 다루다보면 꼭 필요한 기능\n",
        "- 동일하게 적용할 layer를 wrapper로 감싸서 사용\n",
        "  - tf.keras.layers.TimeDistributed\n",
        "- Dense layer는 마지막 축(axis)에 대해 계산하므로, TimeDistributed가 자동으로 적용됨"
      ]
    },
    {
      "cell_type": "code",
      "metadata": {
        "id": "Y2lBvyfKJ6gN",
        "colab": {
          "base_uri": "https://localhost:8080/"
        },
        "outputId": "119d099c-5cd2-4d4f-f7b1-cc2469119f43"
      },
      "source": [
        "# RNN layer의 output을 dense layer에 통과 시키는 것은 시간 축에 따라 동일한 파라미터를 활용하는 것임\n",
        "rnn = tf.keras.Sequential([  \n",
        "  tf.keras.layers.SimpleRNN(units, return_sequences=True),\n",
        "  tf.keras.layers.Dense(4, activation='softmax')\n",
        "])\n",
        "\n",
        "rnn(input_sequence)\n",
        "rnn.summary()"
      ],
      "execution_count": null,
      "outputs": [
        {
          "output_type": "stream",
          "text": [
            "Model: \"sequential_7\"\n",
            "_________________________________________________________________\n",
            "Layer (type)                 Output Shape              Param #   \n",
            "=================================================================\n",
            "simple_rnn_5 (SimpleRNN)     (None, 16, 64)            6208      \n",
            "_________________________________________________________________\n",
            "dense_9 (Dense)              (None, 16, 4)             260       \n",
            "=================================================================\n",
            "Total params: 6,468\n",
            "Trainable params: 6,468\n",
            "Non-trainable params: 0\n",
            "_________________________________________________________________\n"
          ],
          "name": "stdout"
        }
      ]
    },
    {
      "cell_type": "code",
      "metadata": {
        "id": "qBlveRc4KGQk",
        "colab": {
          "base_uri": "https://localhost:8080/"
        },
        "outputId": "631b1a32-ed99-4a3f-b47b-2d374e665a91"
      },
      "source": [
        "# TimeDistributed를 활용하는 예시\n",
        "# 위의 셀에서도 자동적으로 시간 축에 대해 동일한 파라미터를 사용하므로, 결과는 완전히 동일함\n",
        "rnn = tf.keras.Sequential([  \n",
        "  tf.keras.layers.SimpleRNN(units, return_sequences=True),\n",
        "  tf.keras.layers.TimeDistributed(tf.keras.layers.Dense(4, activation='softmax'))\n",
        "])\n",
        "\n",
        "rnn(input_sequence)\n",
        "rnn.summary()"
      ],
      "execution_count": null,
      "outputs": [
        {
          "output_type": "stream",
          "text": [
            "Model: \"sequential_8\"\n",
            "_________________________________________________________________\n",
            "Layer (type)                 Output Shape              Param #   \n",
            "=================================================================\n",
            "simple_rnn_6 (SimpleRNN)     (None, 16, 64)            6208      \n",
            "_________________________________________________________________\n",
            "time_distributed (TimeDistri (None, 16, 4)             260       \n",
            "=================================================================\n",
            "Total params: 6,468\n",
            "Trainable params: 6,468\n",
            "Non-trainable params: 0\n",
            "_________________________________________________________________\n"
          ],
          "name": "stdout"
        }
      ]
    },
    {
      "cell_type": "markdown",
      "metadata": {
        "id": "4gVCRhvwKuCx"
      },
      "source": [
        "- 아래는 TimeDistributed가 꼭 필요한 상황의 예시\n",
        "- 비디오 데이터 예시\n",
        "  - sequence length는 10\n",
        "  - 각 frame의 이미지는 128 x 128\n",
        "  - 각 이미지의 채널 수는 3\n",
        "- time step에 따라, 서로 다른 이미지에 동일한 CNN layer를 적용해야 하는 상황"
      ]
    },
    {
      "cell_type": "code",
      "metadata": {
        "id": "QG79loPTKsbV",
        "colab": {
          "base_uri": "https://localhost:8080/"
        },
        "outputId": "67c4f62b-2414-4d2e-c937-0582fc938282"
      },
      "source": [
        "# input shape : [sequence length, width, height, channel]\n",
        "inputs = tf.keras.Input(shape=(10, 128, 128, 3))\n",
        "\n",
        "model = tf.keras.Sequential([\n",
        "  tf.keras.layers.TimeDistributed(tf.keras.layers.Conv2D(64, (3, 3)))\n",
        "])\n",
        "\n",
        "model(inputs)\n",
        "# 모든 time step에 대해 동일한 cnn layer 적용된 것 확인\n",
        "model.summary()"
      ],
      "execution_count": null,
      "outputs": [
        {
          "output_type": "stream",
          "text": [
            "Model: \"sequential_9\"\n",
            "_________________________________________________________________\n",
            "Layer (type)                 Output Shape              Param #   \n",
            "=================================================================\n",
            "time_distributed_1 (TimeDist (None, 10, 126, 126, 64)  1792      \n",
            "=================================================================\n",
            "Total params: 1,792\n",
            "Trainable params: 1,792\n",
            "Non-trainable params: 0\n",
            "_________________________________________________________________\n"
          ],
          "name": "stdout"
        }
      ]
    }
  ]
}