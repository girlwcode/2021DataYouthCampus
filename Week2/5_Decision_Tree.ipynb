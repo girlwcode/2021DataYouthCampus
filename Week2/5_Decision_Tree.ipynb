{
  "nbformat": 4,
  "nbformat_minor": 0,
  "metadata": {
    "colab": {
      "name": "5_Decision_Tree.ipynb",
      "provenance": [],
      "collapsed_sections": [],
      "include_colab_link": true
    },
    "kernelspec": {
      "name": "python3",
      "display_name": "Python 3"
    }
  },
  "cells": [
    {
      "cell_type": "markdown",
      "metadata": {
        "id": "view-in-github",
        "colab_type": "text"
      },
      "source": [
        "<a href=\"https://colab.research.google.com/github/girlwcode/2021DataYouthCampus/blob/master/Week2/5_Decision_Tree.ipynb\" target=\"_parent\"><img src=\"https://colab.research.google.com/assets/colab-badge.svg\" alt=\"Open In Colab\"/></a>"
      ]
    },
    {
      "cell_type": "markdown",
      "metadata": {
        "id": "pUIZG_1BrYzG"
      },
      "source": [
        "# 의사결정 나무 실습"
      ]
    },
    {
      "cell_type": "markdown",
      "metadata": {
        "id": "e4YWfayTrbyb"
      },
      "source": [
        "python의 scikit-learn 패키지를 이용해 의사결정 나무를 직접 실행해보자."
      ]
    },
    {
      "cell_type": "markdown",
      "metadata": {
        "id": "8Y3bfqwQreH9"
      },
      "source": [
        "### 데이터 불러오기 및 분할하기"
      ]
    },
    {
      "cell_type": "markdown",
      "metadata": {
        "id": "y6LQ-Lb8red3"
      },
      "source": [
        "로지스틱 회귀분석과 SVM 때 사용했던 [cancer dataset](https://scikit-learn.org/stable/datasets/index.html#breast-cancer-wisconsin-diagnostic-dataset)을 그대로 사용하자."
      ]
    },
    {
      "cell_type": "code",
      "metadata": {
        "id": "WOn-huzgrH2J",
        "colab": {
          "base_uri": "https://localhost:8080/"
        },
        "outputId": "300c9bfb-8c23-4592-d1ab-828ba0a2e23b"
      },
      "source": [
        "from sklearn import datasets\n",
        "import numpy as np\n",
        "data = datasets.load_breast_cancer()\n",
        "\n",
        "x = data['data']\n",
        "y = data['target']\n",
        "\n",
        "print(data.target_names,x.shape, y.shape)"
      ],
      "execution_count": 20,
      "outputs": [
        {
          "output_type": "stream",
          "text": [
            "['malignant' 'benign'] (569, 30) (569,)\n"
          ],
          "name": "stdout"
        }
      ]
    },
    {
      "cell_type": "code",
      "metadata": {
        "id": "RWF_aIjzrjVf",
        "colab": {
          "base_uri": "https://localhost:8080/"
        },
        "outputId": "ac9dd1cc-fcd2-46ad-b625-b0272ee369ed"
      },
      "source": [
        "from sklearn.model_selection import train_test_split\n",
        "\n",
        "# 데이터 나누기 - 6:2:2 비율\n",
        "x_train, x_test, y_train, y_test = train_test_split(x, y, test_size=0.2, random_state=1)\n",
        "x_train, x_val, y_train, y_val = train_test_split(x_train, y_train, test_size=0.25, random_state=1)\n",
        "\n",
        "print(x_train.shape, x_val.shape, x_test.shape)"
      ],
      "execution_count": 2,
      "outputs": [
        {
          "output_type": "stream",
          "text": [
            "(341, 30) (114, 30) (114, 30)\n"
          ],
          "name": "stdout"
        }
      ]
    },
    {
      "cell_type": "markdown",
      "metadata": {
        "id": "QS_-NUrorljq"
      },
      "source": [
        "### 모델 학습 및 평가하기"
      ]
    },
    {
      "cell_type": "markdown",
      "metadata": {
        "id": "uagZyL7jr3y5"
      },
      "source": [
        "Scikit-learn의 [DecisionTreeClassifier](https://scikit-learn.org/stable/modules/generated/sklearn.tree.DecisionTreeClassifier.html?highlight=decisiontree#sklearn.tree.DecisionTreeClassifier) 모델을 사용하면 수업 시간에 다루었던 의사결정 나무 모델을 만들어 볼 수 있다."
      ]
    },
    {
      "cell_type": "code",
      "metadata": {
        "id": "njebKs96rmm5"
      },
      "source": [
        "from sklearn.tree import DecisionTreeClassifier"
      ],
      "execution_count": 3,
      "outputs": []
    },
    {
      "cell_type": "code",
      "metadata": {
        "id": "hCJDySnhsTon",
        "colab": {
          "base_uri": "https://localhost:8080/"
        },
        "outputId": "942c6df3-cba0-4291-9c8f-d38137459ea6"
      },
      "source": [
        "# 의사결정 나무 모델 학습하기\n",
        "tree = DecisionTreeClassifier()\n",
        "tree.fit(x_train, y_train)"
      ],
      "execution_count": 39,
      "outputs": [
        {
          "output_type": "execute_result",
          "data": {
            "text/plain": [
              "DecisionTreeClassifier(ccp_alpha=0.0, class_weight=None, criterion='gini',\n",
              "                       max_depth=None, max_features=None, max_leaf_nodes=None,\n",
              "                       min_impurity_decrease=0.0, min_impurity_split=None,\n",
              "                       min_samples_leaf=1, min_samples_split=2,\n",
              "                       min_weight_fraction_leaf=0.0, presort='deprecated',\n",
              "                       random_state=None, splitter='best')"
            ]
          },
          "metadata": {
            "tags": []
          },
          "execution_count": 39
        }
      ]
    },
    {
      "cell_type": "markdown",
      "metadata": {
        "id": "s7gxPNJSsbyc"
      },
      "source": [
        "학습 상태를 점검하기 위해 training과 validation data에 대한 정확도 및 confusion matrix를 확인해 보자. (실습!!)"
      ]
    },
    {
      "cell_type": "code",
      "metadata": {
        "id": "vMAKV3BXsk3P",
        "colab": {
          "base_uri": "https://localhost:8080/",
          "height": 314
        },
        "outputId": "e67ecf1a-2644-448e-8409-f12cfc1fea8f"
      },
      "source": [
        "# TODO: training accuracy 및 confusion matrix\n",
        "pred_train = tree.predict(x_train)\n",
        "\n",
        "# 학습한 모델로 정확도 및 confusion matrix 구하기\n",
        "import matplotlib.pyplot as plt\n",
        "from sklearn.metrics import accuracy_score, confusion_matrix\n",
        "import seaborn as sns\n",
        "\n",
        "\n",
        "print(\"accuracy: \", accuracy_score(y_train, pred_train))\n",
        "\n",
        "mat = confusion_matrix(y_train, pred_train)\n",
        "sns.heatmap(mat.T, square=True, annot=True, fmt='d', cbar=False,\n",
        "            xticklabels=data.target_names,\n",
        "            yticklabels=data.target_names)\n",
        "plt.xlabel('true label')\n",
        "plt.ylabel('predicted label')"
      ],
      "execution_count": 40,
      "outputs": [
        {
          "output_type": "stream",
          "text": [
            "accuracy:  1.0\n"
          ],
          "name": "stdout"
        },
        {
          "output_type": "execute_result",
          "data": {
            "text/plain": [
              "Text(91.68, 0.5, 'predicted label')"
            ]
          },
          "metadata": {
            "tags": []
          },
          "execution_count": 40
        },
        {
          "output_type": "display_data",
          "data": {
            "image/png": "[encoded data removed]",
            "text/plain": [
              "<Figure size 432x288 with 1 Axes>"
            ]
          },
          "metadata": {
            "tags": [],
            "needs_background": "light"
          }
        }
      ]
    },
    {
      "cell_type": "code",
      "metadata": {
        "id": "fauAwKDosofr",
        "colab": {
          "base_uri": "https://localhost:8080/",
          "height": 314
        },
        "outputId": "caf0fcfd-4e61-4de4-b5a7-c963745b5cb3"
      },
      "source": [
        "# TODO: validation accuracy 및 confusion matrix\n",
        "pred_val = tree.predict(x_val)\n",
        "accuracy_score(y_val,pred_val)\n",
        "\n",
        "print(\"accuracy: \", accuracy_score(y_val, pred_val))\n",
        "\n",
        "mat = confusion_matrix(y_val, pred_val)\n",
        "sns.heatmap(mat.T, square=True, annot=True, fmt='d', cbar=False,\n",
        "            xticklabels=data.target_names,\n",
        "            yticklabels=data.target_names)\n",
        "plt.xlabel('true label')\n",
        "plt.ylabel('predicted label')"
      ],
      "execution_count": 41,
      "outputs": [
        {
          "output_type": "stream",
          "text": [
            "accuracy:  0.9210526315789473\n"
          ],
          "name": "stdout"
        },
        {
          "output_type": "execute_result",
          "data": {
            "text/plain": [
              "Text(91.68, 0.5, 'predicted label')"
            ]
          },
          "metadata": {
            "tags": []
          },
          "execution_count": 41
        },
        {
          "output_type": "display_data",
          "data": {
            "image/png": "[encoded data removed]",
            "text/plain": [
              "<Figure size 432x288 with 1 Axes>"
            ]
          },
          "metadata": {
            "tags": [],
            "needs_background": "light"
          }
        }
      ]
    },
    {
      "cell_type": "code",
      "metadata": {
        "colab": {
          "base_uri": "https://localhost:8080/",
          "height": 314
        },
        "id": "xrLBPvrGJKfM",
        "outputId": "2bbc0b25-c83c-42d8-f906-f8b6a2dbc2bf"
      },
      "source": [
        "# TODO: test accuracy 및 confusion matrix\n",
        "pred_test = tree.predict(x_test)\n",
        "accuracy_score(y_test,pred_test)\n",
        "\n",
        "print(\"accuracy: \", accuracy_score(y_test,pred_test))\n",
        "\n",
        "mat = confusion_matrix(y_test,pred_test)\n",
        "sns.heatmap(mat.T, square=True, annot=True, fmt='d', cbar=False,\n",
        "            xticklabels=data.target_names,\n",
        "            yticklabels=data.target_names)\n",
        "plt.xlabel('true label')\n",
        "plt.ylabel('predicted label')"
      ],
      "execution_count": 42,
      "outputs": [
        {
          "output_type": "stream",
          "text": [
            "accuracy:  0.8947368421052632\n"
          ],
          "name": "stdout"
        },
        {
          "output_type": "execute_result",
          "data": {
            "text/plain": [
              "Text(91.68, 0.5, 'predicted label')"
            ]
          },
          "metadata": {
            "tags": []
          },
          "execution_count": 42
        },
        {
          "output_type": "display_data",
          "data": {
            "image/png": "[encoded data removed]",
            "text/plain": [
              "<Figure size 432x288 with 1 Axes>"
            ]
          },
          "metadata": {
            "tags": [],
            "needs_background": "light"
          }
        }
      ]
    },
    {
      "cell_type": "markdown",
      "metadata": {
        "id": "KLDssLH2s8ft"
      },
      "source": [
        "수업 시간에 배웠던 내용을 떠올리며, training과 validation 성능의 차이를 줄일 수 있는 간단한 방법을 생각해 보자."
      ]
    },
    {
      "cell_type": "code",
      "metadata": {
        "id": "7fZJwXDY5o8H",
        "colab": {
          "base_uri": "https://localhost:8080/"
        },
        "outputId": "81e57d3a-a6d8-46ba-f3d0-0f36efbc4f8a"
      },
      "source": [
        "# TODO: 보다 좋은 의사결정 나무 모델 만들기\n",
        "print(\"leaves :\", tree.get_n_leaves())\n",
        "print(\"depth: \",tree.get_depth())\n",
        "\n",
        "# 의사결정 나무 모델 학습하기\n",
        "tree = DecisionTreeClassifier(max_depth=5, max_leaf_nodes=10)\n",
        "tree.fit(x_train, y_train)\n"
      ],
      "execution_count": 43,
      "outputs": [
        {
          "output_type": "stream",
          "text": [
            "leaves : 13\n",
            "depth:  6\n"
          ],
          "name": "stdout"
        },
        {
          "output_type": "execute_result",
          "data": {
            "text/plain": [
              "DecisionTreeClassifier(ccp_alpha=0.0, class_weight=None, criterion='gini',\n",
              "                       max_depth=5, max_features=None, max_leaf_nodes=10,\n",
              "                       min_impurity_decrease=0.0, min_impurity_split=None,\n",
              "                       min_samples_leaf=1, min_samples_split=2,\n",
              "                       min_weight_fraction_leaf=0.0, presort='deprecated',\n",
              "                       random_state=None, splitter='best')"
            ]
          },
          "metadata": {
            "tags": []
          },
          "execution_count": 43
        }
      ]
    },
    {
      "cell_type": "code",
      "metadata": {
        "colab": {
          "base_uri": "https://localhost:8080/",
          "height": 314
        },
        "id": "1Dn-Pq_wIWTg",
        "outputId": "eb84bd20-7da0-4a7c-d531-b97dc5816a6b"
      },
      "source": [
        "# TODO: training accuracy 및 confusion matrix\n",
        "pred_train = tree.predict(x_train)\n",
        "\n",
        "# 학습한 모델로 정확도 및 confusion matrix 구하기\n",
        "import matplotlib.pyplot as plt\n",
        "from sklearn.metrics import accuracy_score, confusion_matrix\n",
        "import seaborn as sns\n",
        "\n",
        "\n",
        "print(\"accuracy: \", accuracy_score(y_train, pred_train))\n",
        "\n",
        "mat = confusion_matrix(y_train, pred_train)\n",
        "sns.heatmap(mat.T, square=True, annot=True, fmt='d', cbar=False,\n",
        "            xticklabels=data.target_names,\n",
        "            yticklabels=data.target_names)\n",
        "plt.xlabel('true label')\n",
        "plt.ylabel('predicted label')"
      ],
      "execution_count": 44,
      "outputs": [
        {
          "output_type": "stream",
          "text": [
            "accuracy:  0.9912023460410557\n"
          ],
          "name": "stdout"
        },
        {
          "output_type": "execute_result",
          "data": {
            "text/plain": [
              "Text(91.68, 0.5, 'predicted label')"
            ]
          },
          "metadata": {
            "tags": []
          },
          "execution_count": 44
        },
        {
          "output_type": "display_data",
          "data": {
            "image/png": "[encoded data removed]",
            "text/plain": [
              "<Figure size 432x288 with 1 Axes>"
            ]
          },
          "metadata": {
            "tags": [],
            "needs_background": "light"
          }
        }
      ]
    },
    {
      "cell_type": "code",
      "metadata": {
        "colab": {
          "base_uri": "https://localhost:8080/",
          "height": 314
        },
        "id": "9-2Dyzt7IZIw",
        "outputId": "864d4bb1-0e7a-470d-bdb9-f51cb12b21d8"
      },
      "source": [
        "# TODO: validation accuracy 및 confusion matrix\n",
        "pred_val = tree.predict(x_val)\n",
        "accuracy_score(y_val,pred_val)\n",
        "\n",
        "print(\"accuracy: \", accuracy_score(y_val, pred_val))\n",
        "\n",
        "mat = confusion_matrix(y_val, pred_val)\n",
        "sns.heatmap(mat.T, square=True, annot=True, fmt='d', cbar=False,\n",
        "            xticklabels=data.target_names,\n",
        "            yticklabels=data.target_names)\n",
        "plt.xlabel('true label')\n",
        "plt.ylabel('predicted label')"
      ],
      "execution_count": 45,
      "outputs": [
        {
          "output_type": "stream",
          "text": [
            "accuracy:  0.9473684210526315\n"
          ],
          "name": "stdout"
        },
        {
          "output_type": "execute_result",
          "data": {
            "text/plain": [
              "Text(91.68, 0.5, 'predicted label')"
            ]
          },
          "metadata": {
            "tags": []
          },
          "execution_count": 45
        },
        {
          "output_type": "display_data",
          "data": {
            "image/png": "[encoded data removed]",
            "text/plain": [
              "<Figure size 432x288 with 1 Axes>"
            ]
          },
          "metadata": {
            "tags": [],
            "needs_background": "light"
          }
        }
      ]
    },
    {
      "cell_type": "code",
      "metadata": {
        "colab": {
          "base_uri": "https://localhost:8080/",
          "height": 314
        },
        "id": "sV49HcUHIshG",
        "outputId": "9d98ecbc-4b56-4f0e-add3-a39270e72c60"
      },
      "source": [
        "# TODO: test accuracy 및 confusion matrix\n",
        "pred_test = tree.predict(x_test)\n",
        "accuracy_score(y_test,pred_test)\n",
        "\n",
        "print(\"accuracy: \", accuracy_score(y_test,pred_test))\n",
        "\n",
        "mat = confusion_matrix(y_test,pred_test)\n",
        "sns.heatmap(mat.T, square=True, annot=True, fmt='d', cbar=False,\n",
        "            xticklabels=data.target_names,\n",
        "            yticklabels=data.target_names)\n",
        "plt.xlabel('true label')\n",
        "plt.ylabel('predicted label')"
      ],
      "execution_count": 46,
      "outputs": [
        {
          "output_type": "stream",
          "text": [
            "accuracy:  0.8947368421052632\n"
          ],
          "name": "stdout"
        },
        {
          "output_type": "execute_result",
          "data": {
            "text/plain": [
              "Text(91.68, 0.5, 'predicted label')"
            ]
          },
          "metadata": {
            "tags": []
          },
          "execution_count": 46
        },
        {
          "output_type": "display_data",
          "data": {
            "image/png": "[encoded data removed]",
            "text/plain": [
              "<Figure size 432x288 with 1 Axes>"
            ]
          },
          "metadata": {
            "tags": [],
            "needs_background": "light"
          }
        }
      ]
    }
  ]
}