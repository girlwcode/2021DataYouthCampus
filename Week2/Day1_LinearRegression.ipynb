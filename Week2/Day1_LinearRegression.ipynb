{
 "cells": [
  {
   "cell_type": "markdown",
   "id": "b69b17c3",
   "metadata": {},
   "source": [
    "# 다중 회귀 분석 실습\n",
    "Dataset :  diabetes dataset\n",
    "Diabetes dataset은 당뇨병 환자들의 1년간 당뇨병 진행 변화에 대한 데이터이다.  \n",
    "독립 변수는 나이와 성별 등 환자의 정보이며, 예측해야 하는 종속 변수는 당뇨병의 진행 정도이다. 자세한 사항은 이곳에서 확인할 수 있다.  \n",
    "결측치가 없고 데이터 정규화(normalization)도 완료되어 있어, 제공된 그대로 분석에 사용하면 된다."
   ]
  },
  {
   "cell_type": "code",
   "execution_count": 1,
   "id": "e73c68f3",
   "metadata": {},
   "outputs": [],
   "source": [
    "from sklearn import datasets\n",
    "## load dataset\n",
    "data = datasets.load_diabetes()"
   ]
  },
  {
   "cell_type": "code",
   "execution_count": 2,
   "id": "489ba31f",
   "metadata": {},
   "outputs": [
    {
     "name": "stdout",
     "output_type": "stream",
     "text": [
      "data :  [[ 0.03807591  0.05068012  0.06169621 ... -0.00259226  0.01990842\n",
      "  -0.01764613]\n",
      " [-0.00188202 -0.04464164 -0.05147406 ... -0.03949338 -0.06832974\n",
      "  -0.09220405]\n",
      " [ 0.08529891  0.05068012  0.04445121 ... -0.00259226  0.00286377\n",
      "  -0.02593034]\n",
      " ...\n",
      " [ 0.04170844  0.05068012 -0.01590626 ... -0.01107952 -0.04687948\n",
      "   0.01549073]\n",
      " [-0.04547248 -0.04464164  0.03906215 ...  0.02655962  0.04452837\n",
      "  -0.02593034]\n",
      " [-0.04547248 -0.04464164 -0.0730303  ... -0.03949338 -0.00421986\n",
      "   0.00306441]]\n",
      "target :  [151.  75. 141. 206. 135.  97. 138.  63. 110. 310. 101.  69. 179. 185.\n",
      " 118. 171. 166. 144.  97. 168.  68.  49.  68. 245. 184. 202. 137.  85.\n",
      " 131. 283. 129.  59. 341.  87.  65. 102. 265. 276. 252.  90. 100.  55.\n",
      "  61.  92. 259.  53. 190. 142.  75. 142. 155. 225.  59. 104. 182. 128.\n",
      "  52.  37. 170. 170.  61. 144.  52. 128.  71. 163. 150.  97. 160. 178.\n",
      "  48. 270. 202. 111.  85.  42. 170. 200. 252. 113. 143.  51.  52. 210.\n",
      "  65. 141.  55. 134.  42. 111.  98. 164.  48.  96.  90. 162. 150. 279.\n",
      "  92.  83. 128. 102. 302. 198.  95.  53. 134. 144. 232.  81. 104.  59.\n",
      " 246. 297. 258. 229. 275. 281. 179. 200. 200. 173. 180.  84. 121. 161.\n",
      "  99. 109. 115. 268. 274. 158. 107.  83. 103. 272.  85. 280. 336. 281.\n",
      " 118. 317. 235.  60. 174. 259. 178. 128.  96. 126. 288.  88. 292.  71.\n",
      " 197. 186.  25.  84.  96. 195.  53. 217. 172. 131. 214.  59.  70. 220.\n",
      " 268. 152.  47.  74. 295. 101. 151. 127. 237. 225.  81. 151. 107.  64.\n",
      " 138. 185. 265. 101. 137. 143. 141.  79. 292. 178.  91. 116.  86. 122.\n",
      "  72. 129. 142.  90. 158.  39. 196. 222. 277.  99. 196. 202. 155.  77.\n",
      " 191.  70.  73.  49.  65. 263. 248. 296. 214. 185.  78.  93. 252. 150.\n",
      "  77. 208.  77. 108. 160.  53. 220. 154. 259.  90. 246. 124.  67.  72.\n",
      " 257. 262. 275. 177.  71.  47. 187. 125.  78.  51. 258. 215. 303. 243.\n",
      "  91. 150. 310. 153. 346.  63.  89.  50.  39. 103. 308. 116. 145.  74.\n",
      "  45. 115. 264.  87. 202. 127. 182. 241.  66.  94. 283.  64. 102. 200.\n",
      " 265.  94. 230. 181. 156. 233.  60. 219.  80.  68. 332. 248.  84. 200.\n",
      "  55.  85.  89.  31. 129.  83. 275.  65. 198. 236. 253. 124.  44. 172.\n",
      " 114. 142. 109. 180. 144. 163. 147.  97. 220. 190. 109. 191. 122. 230.\n",
      " 242. 248. 249. 192. 131. 237.  78. 135. 244. 199. 270. 164.  72.  96.\n",
      " 306.  91. 214.  95. 216. 263. 178. 113. 200. 139. 139.  88. 148.  88.\n",
      " 243.  71.  77. 109. 272.  60.  54. 221.  90. 311. 281. 182. 321.  58.\n",
      " 262. 206. 233. 242. 123. 167.  63. 197.  71. 168. 140. 217. 121. 235.\n",
      " 245.  40.  52. 104. 132.  88.  69. 219.  72. 201. 110.  51. 277.  63.\n",
      " 118.  69. 273. 258.  43. 198. 242. 232. 175.  93. 168. 275. 293. 281.\n",
      "  72. 140. 189. 181. 209. 136. 261. 113. 131. 174. 257.  55.  84.  42.\n",
      " 146. 212. 233.  91. 111. 152. 120.  67. 310.  94. 183.  66. 173.  72.\n",
      "  49.  64.  48. 178. 104. 132. 220.  57.]\n",
      "frame :  None\n",
      "DESCR :  .. _diabetes_dataset:\n",
      "\n",
      "Diabetes dataset\n",
      "----------------\n",
      "\n",
      "Ten baseline variables, age, sex, body mass index, average blood\n",
      "pressure, and six blood serum measurements were obtained for each of n =\n",
      "442 diabetes patients, as well as the response of interest, a\n",
      "quantitative measure of disease progression one year after baseline.\n",
      "\n",
      "**Data Set Characteristics:**\n",
      "\n",
      "  :Number of Instances: 442\n",
      "\n",
      "  :Number of Attributes: First 10 columns are numeric predictive values\n",
      "\n",
      "  :Target: Column 11 is a quantitative measure of disease progression one year after baseline\n",
      "\n",
      "  :Attribute Information:\n",
      "      - age     age in years\n",
      "      - sex\n",
      "      - bmi     body mass index\n",
      "      - bp      average blood pressure\n",
      "      - s1      tc, total serum cholesterol\n",
      "      - s2      ldl, low-density lipoproteins\n",
      "      - s3      hdl, high-density lipoproteins\n",
      "      - s4      tch, total cholesterol / HDL\n",
      "      - s5      ltg, possibly log of serum triglycerides level\n",
      "      - s6      glu, blood sugar level\n",
      "\n",
      "Note: Each of these 10 feature variables have been mean centered and scaled by the standard deviation times `n_samples` (i.e. the sum of squares of each column totals 1).\n",
      "\n",
      "Source URL:\n",
      "https://www4.stat.ncsu.edu/~boos/var.select/diabetes.html\n",
      "\n",
      "For more information see:\n",
      "Bradley Efron, Trevor Hastie, Iain Johnstone and Robert Tibshirani (2004) \"Least Angle Regression,\" Annals of Statistics (with discussion), 407-499.\n",
      "(https://web.stanford.edu/~hastie/Papers/LARS/LeastAngle_2002.pdf)\n",
      "feature_names :  ['age', 'sex', 'bmi', 'bp', 's1', 's2', 's3', 's4', 's5', 's6']\n",
      "data_filename :  C:\\Users\\dksle\\anaconda3\\envs\\tensorflow\\lib\\site-packages\\sklearn\\datasets\\data\\diabetes_data.csv.gz\n",
      "target_filename :  C:\\Users\\dksle\\anaconda3\\envs\\tensorflow\\lib\\site-packages\\sklearn\\datasets\\data\\diabetes_target.csv.gz\n"
     ]
    }
   ],
   "source": [
    "# 데이터 확인\n",
    "for k, v in data.items():\n",
    "  print(k, ': ', v)"
   ]
  },
  {
   "cell_type": "code",
   "execution_count": 3,
   "id": "68b78206",
   "metadata": {},
   "outputs": [
    {
     "name": "stdout",
     "output_type": "stream",
     "text": [
      "(442, 10) (442,)\n"
     ]
    }
   ],
   "source": [
    "# 데이터 저장 및 확인\n",
    "x = data['data']\n",
    "y = data['target']\n",
    "\n",
    "print(x.shape, y.shape)"
   ]
  },
  {
   "cell_type": "code",
   "execution_count": 4,
   "id": "8ae511c6",
   "metadata": {},
   "outputs": [
    {
     "name": "stdout",
     "output_type": "stream",
     "text": [
      "(264, 10) (89, 10) (89, 10)\n"
     ]
    }
   ],
   "source": [
    "## Test, Train 분할하기\n",
    "from sklearn.model_selection import train_test_split\n",
    "\n",
    "# 데이터 나누기 - 6:2:2 비율\n",
    "x_train, x_test, y_train, y_test = train_test_split(x, y, test_size=0.2, random_state=1)\n",
    "x_train, x_val, y_train, y_val = train_test_split(x_train, y_train, test_size=0.25, random_state=1)\n",
    "\n",
    "print(x_train.shape, x_val.shape, x_test.shape)"
   ]
  },
  {
   "cell_type": "code",
   "execution_count": 5,
   "id": "d179bbf0",
   "metadata": {},
   "outputs": [
    {
     "data": {
      "text/plain": [
       "LinearRegression()"
      ]
     },
     "execution_count": 5,
     "metadata": {},
     "output_type": "execute_result"
    }
   ],
   "source": [
    "## 모델 학습하기\n",
    "import numpy as np\n",
    "from sklearn.linear_model import LinearRegression\n",
    "\n",
    "# 회귀분석 객체 생성\n",
    "lr = LinearRegression()\n",
    "\n",
    "# 회귀분석 모델 학습\n",
    "lr.fit(x_train, y_train)"
   ]
  },
  {
   "cell_type": "code",
   "execution_count": 6,
   "id": "f4ac8e2b",
   "metadata": {},
   "outputs": [
    {
     "name": "stdout",
     "output_type": "stream",
     "text": [
      "147.87388534119617\n",
      "[ -39.57865915 -236.60328634  489.97259328  352.8678163  -873.03276134\n",
      "  430.03354622  208.4341436   306.03221956  746.84762599  116.37588728]\n"
     ]
    }
   ],
   "source": [
    "# 회귀계수 확인 (w,alpah)\n",
    "print(lr.intercept_)\n",
    "print(lr.coef_)"
   ]
  },
  {
   "cell_type": "code",
   "execution_count": 8,
   "id": "f317839b",
   "metadata": {},
   "outputs": [],
   "source": [
    "## 결정계수 R-Square 확인\n",
    "# training data 예측값\n",
    "pred_train = lr.predict(x_train)"
   ]
  },
  {
   "cell_type": "code",
   "execution_count": 9,
   "id": "b34f962f",
   "metadata": {},
   "outputs": [
    {
     "name": "stdout",
     "output_type": "stream",
     "text": [
      "0.5353262888595558\n"
     ]
    }
   ],
   "source": [
    "# training data에 대한 R-square 계산\n",
    "from sklearn.metrics import r2_score\n",
    "print(r2_score(y_train, pred_train))"
   ]
  },
  {
   "cell_type": "code",
   "execution_count": 11,
   "id": "adead548",
   "metadata": {},
   "outputs": [
    {
     "name": "stdout",
     "output_type": "stream",
     "text": [
      "0.493408590131314\n"
     ]
    }
   ],
   "source": [
    "# validation data에 대한 R-square 계산\n",
    "pred_val = lr.predict(x_val)\n",
    "print(r2_score(y_val, pred_val))"
   ]
  },
  {
   "cell_type": "code",
   "execution_count": 12,
   "id": "e8881c4a",
   "metadata": {},
   "outputs": [
    {
     "name": "stdout",
     "output_type": "stream",
     "text": [
      "0.4432722010710277\n"
     ]
    }
   ],
   "source": [
    "# test data에 대한 R-square 계산\n",
    "pred_test = lr.predict(x_test)\n",
    "print(r2_score(y_test, pred_test))"
   ]
  },
  {
   "cell_type": "code",
   "execution_count": 19,
   "id": "e5fb667e",
   "metadata": {},
   "outputs": [
    {
     "name": "stdout",
     "output_type": "stream",
     "text": [
      "============ round 1 ============\n",
      "best variables updated:  [2]\n",
      "current best r2:  0.4015039066196985\n",
      "============ round 2 ============\n",
      "best variables updated:  [2, 8]\n",
      "current best r2:  0.48019951742375144\n",
      "============ round 3 ============\n",
      "best variables updated:  [2, 8, 6]\n",
      "current best r2:  0.49118013719572606\n",
      "============ round 4 ============\n",
      "best variables updated:  [2, 8, 6, 1]\n",
      "current best r2:  0.5142459076902111\n",
      "============ round 5 ============\n",
      "best variables updated:  [2, 8, 6, 1, 3]\n",
      "current best r2:  0.5333863843789602\n",
      "============ round 6 ============\n",
      "no improvement\n",
      "\n",
      "---------------------------------------------------\n",
      "\n",
      "final variables:  [1, 2, 3, 6, 8]\n",
      "final r2:  0.5333863843789602\n"
     ]
    }
   ],
   "source": [
    "# 선택된 변수들, R-square 값 및 모델 저장\n",
    "best_variables = []\n",
    "best_r2 = 0.\n",
    "best_model = None\n",
    "\n",
    "# 남아 있는 변수들\n",
    "remain_variables = list(range(10))\n",
    "\n",
    "for round in range(10):\n",
    "    print(f\"============ round {round+1} ============\")\n",
    "    r2_of_this_round = []\n",
    "    models_of_this_round = []\n",
    "    \n",
    "    for var in remain_variables:\n",
    "    # 사용될 변수들과 모델\n",
    "        use_vars = best_variables + [var]\n",
    "        model = LinearRegression()\n",
    "\n",
    "    # 지정된 변수만 사용하게끔 데이터 추출\n",
    "        x_train_small = x_train[:, use_vars]\n",
    "        x_val_small = x_val[:, use_vars]\n",
    "\n",
    "    # 지정된 변수로 모델 학습\n",
    "        model.fit(x_train_small, y_train)\n",
    "        models_of_this_round.append(model)\n",
    "\n",
    "    # validation R-square 계산\n",
    "        r2 = r2_score(y_val, model.predict(x_val_small))\n",
    "        r2_of_this_round.append(r2)\n",
    "  \n",
    "  # R-square 가 높은 모델 선택\n",
    "    best_r2_of_this_round = np.max(r2_of_this_round)\n",
    "\n",
    "  # 이전 round와 비교\n",
    "    if best_r2_of_this_round > best_r2:\n",
    "        best_var_of_this_round = np.argmax(r2_of_this_round)\n",
    "\n",
    "    # 변수 추가, R-square 값 및 모델 업데이트\n",
    "        best_variables.append(remain_variables[best_var_of_this_round])\n",
    "        best_r2 = best_r2_of_this_round\n",
    "        best_model = models_of_this_round[best_var_of_this_round]\n",
    "\n",
    "    # 남은 변수들 중 선택된 변수 제거\n",
    "        remain_variables.pop(best_var_of_this_round)\n",
    "\n",
    "        print('best variables updated: ', best_variables)\n",
    "        print('current best r2: ', best_r2)\n",
    "\n",
    "  # 더 이상 개선되지 않으면 멈춤  \n",
    "    else:\n",
    "        print(\"no improvement\")\n",
    "        break\n",
    "\n",
    "\n",
    "\n",
    "print('\\n---------------------------------------------------\\n')\n",
    "print('final variables: ', sorted(best_variables))\n",
    "print('final r2: ', best_r2)\n",
    "  \n"
   ]
  },
  {
   "cell_type": "code",
   "execution_count": 20,
   "id": "4377d164",
   "metadata": {},
   "outputs": [
    {
     "name": "stdout",
     "output_type": "stream",
     "text": [
      "0.42090782097560653\n"
     ]
    }
   ],
   "source": [
    "# 최적 모델 성능\n",
    "print(r2_score(y_test, best_model.predict(x_test[:, best_variables])))"
   ]
  },
  {
   "cell_type": "code",
   "execution_count": null,
   "id": "c7c51f76",
   "metadata": {},
   "outputs": [],
   "source": [
    "# 선택된 변수들, R-square 값 및 모델 저장\n",
    "best_variables = list(range(10))\n",
    "best_adj_r2 = 0.\n",
    "best_model = None\n",
    "\n",
    "\n",
    "# TODO: 선택된 변수들 중 Adjusted R-square의 손실이 가장 적은 변수를 골라 없애기\n",
    "for round in range(10):\n",
    "    print(f\"============ round {round+1} ============\")\n",
    "    adj_r2_of_this_round = []\n",
    "    models_of_this_round = []\n",
    "    \n",
    "    for var in best_variables:\n",
    "        # 사용될 변수들과 모델\n",
    "        use_vars = best_variables + [var]\n",
    "        model = LinearRegression()\n",
    "\n",
    "    # 지정된 변수만 사용하게끔 데이터 추출\n",
    "        x_train_small = x_train[:, use_vars]\n",
    "        x_val_small = x_val[:, use_vars]\n",
    "\n",
    "    # 지정된 변수로 모델 학습\n",
    "        model.fit(x_train_small, y_train)\n",
    "        models_of_this_round.append(model)\n",
    "\n",
    "    # validation R-square 계산\n",
    "        r2 = r2_score(y_val, model.predict(x_val_small))\n",
    "        r2_of_this_round.append(r2)\n",
    "  \n",
    "    # R-square 가 낮은 모델 선택\n",
    "    worst_r2_of_this_round = np.min(r2_of_this_round)\n",
    "    \n",
    "    # 이전 round와 비교\n",
    "    if worst_r2_of_this_round < worst_r2:\n",
    "        worst_r2_of_this_round = np.argmin(r2_of_this_round)\n",
    "\n",
    "    # 변수 추가, R-square 값 및 모델 업데이트\n",
    "        best_variables.append(remain_variables[best_var_of_this_round])\n",
    "        worst_r2 = worst_r2_of_this_round\n",
    "        best_model = models_of_this_round[best_var_of_this_round]\n",
    "\n",
    "    # 남은 변수들 중 선택된 변수 제거\n",
    "        remain_variables.pop(best_var_of_this_round)\n",
    "\n",
    "        print('best variables updated: ', best_variables)\n",
    "        print('current best r2: ', best_r2)\n",
    "    \n",
    "\n",
    "print('---------------------------------------------------')\n",
    "print('final variables: ', sorted(best_variables))\n",
    "print('final adj_r2: ', best_adj_r2)\n",
    "\n",
    "print('---------------------------------------------------')\n",
    "test_r2=r2_score(y_test, best_model.predict(x_test[:, best_variables]))\n",
    "test_adj_r2 =1-(1-test_r2)*(y_test.shape[0]-1)/(y_test.shape[0]-len(best_variables)-1) \n",
    "print('test adjust R-square: ', test_adj_r2)"
   ]
  }
 ],
 "metadata": {
  "kernelspec": {
   "display_name": "Python 3",
   "language": "python",
   "name": "python3"
  },
  "language_info": {
   "codemirror_mode": {
    "name": "ipython",
    "version": 3
   },
   "file_extension": ".py",
   "mimetype": "text/x-python",
   "name": "python",
   "nbconvert_exporter": "python",
   "pygments_lexer": "ipython3",
   "version": "3.7.10"
  }
 },
 "nbformat": 4,
 "nbformat_minor": 5
}
