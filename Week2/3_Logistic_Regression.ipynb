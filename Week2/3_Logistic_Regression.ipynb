{
  "nbformat": 4,
  "nbformat_minor": 0,
  "metadata": {
    "colab": {
      "name": "3_Logistic_Regression.ipynb",
      "provenance": [],
      "collapsed_sections": [],
      "include_colab_link": true
    },
    "kernelspec": {
      "name": "python3",
      "display_name": "Python 3"
    }
  },
  "cells": [
    {
      "cell_type": "markdown",
      "metadata": {
        "id": "view-in-github",
        "colab_type": "text"
      },
      "source": [
        "<a href=\"https://colab.research.google.com/github/girlwcode/2021DataYouthCampus/blob/master/Week2/3_Logistic_Regression.ipynb\" target=\"_parent\"><img src=\"https://colab.research.google.com/assets/colab-badge.svg\" alt=\"Open In Colab\"/></a>"
      ]
    },
    {
      "cell_type": "markdown",
      "metadata": {
        "id": "L7hs8YhKQLYl"
      },
      "source": [
        "# 로지스틱 회귀분석 실습"
      ]
    },
    {
      "cell_type": "markdown",
      "metadata": {
        "id": "uAAkUfisQVgQ"
      },
      "source": [
        "python의 scikit-learn 패키지를 이용해 정규화 회귀분석을 직접 실행해보자."
      ]
    },
    {
      "cell_type": "markdown",
      "metadata": {
        "id": "oumro28XQZHR"
      },
      "source": [
        "### 데이터 불러오기 및 분할하기"
      ]
    },
    {
      "cell_type": "markdown",
      "metadata": {
        "id": "L7rQ6wnTQtuv"
      },
      "source": [
        "로지스틱 회귀분석 실습을 위해 기존의 예측용 데이터셋이 아닌 분류용 데이터셋을 사용해 보자. 이번에 사용할 cancer dataset은 유방암 분류에 대한 데이터이다. 독립 변수는 30개이며, 종속 변수는 양성과 악성의 두 가지 범주를 가지고 있다. 자세한 사항은 [이곳](https://scikit-learn.org/stable/datasets/index.html#breast-cancer-wisconsin-diagnostic-dataset)에서 확인할 수 있다."
      ]
    },
    {
      "cell_type": "code",
      "metadata": {
        "id": "xzns4N-dQK-B",
        "colab": {
          "base_uri": "https://localhost:8080/"
        },
        "outputId": "e9339ced-243a-495f-c686-2b8e80152985"
      },
      "source": [
        "from sklearn import datasets\n",
        "import numpy as np\n",
        "data = datasets.load_breast_cancer()\n",
        "\n",
        "x = data['data']\n",
        "y = data['target']\n",
        "\n",
        "print(x.shape, y.shape)"
      ],
      "execution_count": 1,
      "outputs": [
        {
          "output_type": "stream",
          "text": [
            "(569, 30) (569,)\n"
          ],
          "name": "stdout"
        }
      ]
    },
    {
      "cell_type": "code",
      "metadata": {
        "id": "hpysI3K3QCgh",
        "colab": {
          "base_uri": "https://localhost:8080/"
        },
        "outputId": "c224f3f9-259a-4ae2-b155-fc3d8936b1be"
      },
      "source": [
        "from sklearn.model_selection import train_test_split\n",
        "\n",
        "# 데이터 나누기 - 6:2:2 비율\n",
        "x_train, x_test, y_train, y_test = train_test_split(x, y, test_size=0.2, random_state=1)\n",
        "x_train, x_val, y_train, y_val = train_test_split(x_train, y_train, test_size=0.25, random_state=1)\n",
        "\n",
        "print(x_train.shape, x_val.shape, x_test.shape)"
      ],
      "execution_count": 2,
      "outputs": [
        {
          "output_type": "stream",
          "text": [
            "(341, 30) (114, 30) (114, 30)\n"
          ],
          "name": "stdout"
        }
      ]
    },
    {
      "cell_type": "markdown",
      "metadata": {
        "id": "LH3xV_iUQkss"
      },
      "source": [
        "### 모델 학습 및 평가하기"
      ]
    },
    {
      "cell_type": "markdown",
      "metadata": {
        "id": "3Wc-DNL9TtNy"
      },
      "source": [
        "[LogisticRegression](https://scikit-learn.org/stable/modules/generated/sklearn.linear_model.LogisticRegression.html?highlight=logisticregression#sklearn.linear_model.LogisticRegression) 에 대한 자세한 설명은 링크를 참조하자. 설명을 읽어보면 선형 회귀분석과 마찬가지로 각종 regularization을 제공함을 알 수 있다."
      ]
    },
    {
      "cell_type": "code",
      "metadata": {
        "id": "cvYpJe8AQkfn",
        "colab": {
          "base_uri": "https://localhost:8080/"
        },
        "outputId": "30c690ea-ef8e-4263-b333-4c732760329a"
      },
      "source": [
        "from sklearn.linear_model import LogisticRegression\n",
        "logistic = LogisticRegression()\n",
        "logistic.fit(x_train, y_train)"
      ],
      "execution_count": 3,
      "outputs": [
        {
          "output_type": "stream",
          "text": [
            "/usr/local/lib/python3.7/dist-packages/sklearn/linear_model/_logistic.py:940: ConvergenceWarning: lbfgs failed to converge (status=1):\n",
            "STOP: TOTAL NO. of ITERATIONS REACHED LIMIT.\n",
            "\n",
            "Increase the number of iterations (max_iter) or scale the data as shown in:\n",
            "    https://scikit-learn.org/stable/modules/preprocessing.html\n",
            "Please also refer to the documentation for alternative solver options:\n",
            "    https://scikit-learn.org/stable/modules/linear_model.html#logistic-regression\n",
            "  extra_warning_msg=_LOGISTIC_SOLVER_CONVERGENCE_MSG)\n"
          ],
          "name": "stderr"
        },
        {
          "output_type": "execute_result",
          "data": {
            "text/plain": [
              "LogisticRegression(C=1.0, class_weight=None, dual=False, fit_intercept=True,\n",
              "                   intercept_scaling=1, l1_ratio=None, max_iter=100,\n",
              "                   multi_class='auto', n_jobs=None, penalty='l2',\n",
              "                   random_state=None, solver='lbfgs', tol=0.0001, verbose=0,\n",
              "                   warm_start=False)"
            ]
          },
          "metadata": {
            "tags": []
          },
          "execution_count": 3
        }
      ]
    },
    {
      "cell_type": "markdown",
      "metadata": {
        "id": "jDPwClOuTcEk"
      },
      "source": [
        "분류 문제의 경우 confusion matrix와 정확도를 이용해 성능을 확인해 볼 수 있다.\n",
        "아래와 같이 training, validation, test의 성능을 구해 보자."
      ]
    },
    {
      "cell_type": "code",
      "metadata": {
        "id": "JT6HMT92QhL1",
        "colab": {
          "base_uri": "https://localhost:8080/"
        },
        "outputId": "0faff28c-8832-4b86-e306-5bcc33fbdb0a"
      },
      "source": [
        "from sklearn.metrics import accuracy_score, confusion_matrix\n",
        "\n",
        "pred_train = logistic.predict(x_train)\n",
        "print(f'training accuracy: {accuracy_score(y_train, pred_train)}')\n",
        "print(confusion_matrix(y_train, pred_train))"
      ],
      "execution_count": 4,
      "outputs": [
        {
          "output_type": "stream",
          "text": [
            "training accuracy: 0.9618768328445748\n",
            "[[122   8]\n",
            " [  5 206]]\n"
          ],
          "name": "stdout"
        }
      ]
    },
    {
      "cell_type": "code",
      "metadata": {
        "id": "2ggW_btASrIn",
        "colab": {
          "base_uri": "https://localhost:8080/"
        },
        "outputId": "962ada00-eb9b-420c-abef-775d07db5d6b"
      },
      "source": [
        "pred_val = logistic.predict(x_val)\n",
        "print(f'validation accuracy: {accuracy_score(y_val, pred_val)}')\n",
        "print(confusion_matrix(y_val, pred_val))"
      ],
      "execution_count": 5,
      "outputs": [
        {
          "output_type": "stream",
          "text": [
            "validation accuracy: 0.9649122807017544\n",
            "[[37  3]\n",
            " [ 1 73]]\n"
          ],
          "name": "stdout"
        }
      ]
    },
    {
      "cell_type": "code",
      "metadata": {
        "id": "CaZTdEuQEOte",
        "colab": {
          "base_uri": "https://localhost:8080/"
        },
        "outputId": "c59a36cc-af00-4bf9-ffc5-56cc67a3af8b"
      },
      "source": [
        "pred_test = logistic.predict(x_test)\n",
        "print(f'test accuracy: {accuracy_score(y_test, pred_test)}')\n",
        "print(confusion_matrix(y_test, pred_test))"
      ],
      "execution_count": 6,
      "outputs": [
        {
          "output_type": "stream",
          "text": [
            "test accuracy: 0.956140350877193\n",
            "[[37  5]\n",
            " [ 0 72]]\n"
          ],
          "name": "stdout"
        }
      ]
    },
    {
      "cell_type": "markdown",
      "metadata": {
        "id": "kNabQ5fjA-6J"
      },
      "source": [
        "앞서 등장한 경고 문구에 대해 알아보자. \n",
        "\n",
        "> ConvergenceWarning: lbfgs failed to converge (status=1): STOP: TOTAL NO. of ITERATIONS REACHED LIMIT.\n",
        "\n",
        "\n",
        "수업 시간에 배웠듯이, 로지스틱 회귀분석의 경우는 선형 회귀분석과 다르게 미분으로 간단히 최적의 매개변수를 구할 수 없다. 따라서 적절한 최적화 방법을 적용해야 하는데, 위 경고문은 이 최적화 과정이 계산 횟수의 제한으로 인해 완료되지 못하고 도중에 멈추었다는 뜻이다. 횟수의 제한을 풀어 최적화를 완료해 보자. (실습!)\n",
        "\n",
        "\n"
      ]
    },
    {
      "cell_type": "code",
      "metadata": {
        "id": "vZSeuGah_Pzv",
        "colab": {
          "base_uri": "https://localhost:8080/"
        },
        "outputId": "030e9d0e-2898-4a0c-c8fe-7a6549472d95"
      },
      "source": [
        "# TODO: 경고 문구 없이 로지스틱 회귀분석 학습 완료해 보기\n",
        "logistic = LogisticRegression(max_iter=10000)\n",
        "logistic.fit(x_train, y_train)"
      ],
      "execution_count": 10,
      "outputs": [
        {
          "output_type": "execute_result",
          "data": {
            "text/plain": [
              "LogisticRegression(C=1.0, class_weight=None, dual=False, fit_intercept=True,\n",
              "                   intercept_scaling=1, l1_ratio=None, max_iter=10000,\n",
              "                   multi_class='auto', n_jobs=None, penalty='l2',\n",
              "                   random_state=None, solver='lbfgs', tol=0.0001, verbose=0,\n",
              "                   warm_start=False)"
            ]
          },
          "metadata": {
            "tags": []
          },
          "execution_count": 10
        }
      ]
    },
    {
      "cell_type": "code",
      "metadata": {
        "id": "i3Eo-Q2y_U6g",
        "colab": {
          "base_uri": "https://localhost:8080/"
        },
        "outputId": "daaa3e62-8db1-496c-e7f6-296d98495ade"
      },
      "source": [
        "# TODO: 학습한 모델의 training, validation, test 정확도 알아보기\n",
        "\n",
        "pred_train = logistic.predict(x_train)\n",
        "print(f'training accuracy: {accuracy_score(y_train, pred_train)}')\n",
        "print(confusion_matrix(y_train, pred_train))\n",
        "\n",
        "pred_val = logistic.predict(x_val)\n",
        "print(f'validation accuracy: {accuracy_score(y_val, pred_val)}')\n",
        "print(confusion_matrix(y_val, pred_val))\n",
        "\n",
        "pred_test = logistic.predict(x_test)\n",
        "print(f'test accuracy: {accuracy_score(y_test, pred_test)}')\n",
        "print(confusion_matrix(y_test, pred_test))"
      ],
      "execution_count": 11,
      "outputs": [
        {
          "output_type": "stream",
          "text": [
            "training accuracy: 0.9648093841642229\n",
            "[[123   7]\n",
            " [  5 206]]\n",
            "validation accuracy: 0.9649122807017544\n",
            "[[37  3]\n",
            " [ 1 73]]\n",
            "test accuracy: 0.9473684210526315\n",
            "[[37  5]\n",
            " [ 1 71]]\n"
          ],
          "name": "stdout"
        }
      ]
    }
  ]
}